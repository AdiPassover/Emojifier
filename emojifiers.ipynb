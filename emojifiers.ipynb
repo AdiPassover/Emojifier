{
 "cells": [
  {
   "cell_type": "markdown",
   "metadata": {},
   "source": [
    "# **Text Emojifier**"
   ]
  },
  {
   "cell_type": "markdown",
   "metadata": {},
   "source": [
    "## Setup"
   ]
  },
  {
   "cell_type": "code",
   "execution_count": 194,
   "metadata": {
    "ExecuteTime": {
     "end_time": "2025-01-16T11:17:49.657387Z",
     "start_time": "2025-01-16T11:17:49.622545Z"
    },
    "_cell_guid": "b1076dfc-b9ad-4769-8c92-a6c4dae69d19",
    "_uuid": "8f2839f25d086af736a60e9eeb907d3b93b6e0e5",
    "id": "id4dmTJ655qd",
    "papermill": {
     "duration": 0.040825,
     "end_time": "2020-09-16T16:30:56.211570",
     "exception": false,
     "start_time": "2020-09-16T16:30:56.170745",
     "status": "completed"
    },
    "tags": []
   },
   "outputs": [],
   "source": [
    "import math\n",
    "\n",
    "from kagglehub import dataset_download\n",
    "import os\n",
    "import matplotlib.pyplot as plt\n",
    "import nltk\n",
    "import pandas as pd\n",
    "from sklearn.dummy import DummyClassifier\n",
    "from sklearn.linear_model import LogisticRegression\n",
    "from sklearn.metrics import confusion_matrix\n",
    "from sklearn.metrics import accuracy_score, precision_score, recall_score, f1_score, confusion_matrix, classification_report\n",
    "import seaborn as sns\n",
    "from nltk.tokenize import word_tokenize\n",
    "from nltk.stem import PorterStemmer, WordNetLemmatizer\n",
    "from nltk.corpus import stopwords\n",
    "import seaborn as sb\n",
    "import joblib\n",
    "import torch\n",
    "import torch.nn as nn\n",
    "import torch.optim as optim\n",
    "from torchsummary import summary\n",
    "from torch.utils.data import DataLoader, TensorDataset, Dataset\n",
    "import matplotlib.pyplot as plt\n",
    "import re\n",
    "import numpy as np\n",
    "import tensorflow as tf\n",
    "import tensorflow.keras as keras\n",
    "from tensorflow.keras.models import Sequential, Model\n",
    "from tensorflow.keras.layers import LSTM, Dense, Dropout, Bidirectional, Layer, Input\n",
    "from tensorflow.keras import backend as K\n",
    "from keras.optimizers import Adam\n",
    "from keras_self_attention import SeqSelfAttention\n",
    "from tensorflow.python.keras.callbacks import EarlyStopping"
   ]
  },
  {
   "cell_type": "code",
   "execution_count": 195,
   "metadata": {
    "ExecuteTime": {
     "end_time": "2025-01-16T10:06:16.746382Z",
     "start_time": "2025-01-16T10:06:16.741257Z"
    }
   },
   "outputs": [],
   "source": [
    "ps = PorterStemmer()\n",
    "lemmatizer = WordNetLemmatizer()\n",
    "stop_words = set(stopwords.words('english'))"
   ]
  },
  {
   "cell_type": "code",
   "execution_count": 196,
   "metadata": {
    "ExecuteTime": {
     "end_time": "2025-01-16T10:06:16.933124Z",
     "start_time": "2025-01-16T10:06:16.928732Z"
    }
   },
   "outputs": [
    {
     "name": "stdout",
     "output_type": "stream",
     "text": [
      "device='cuda'\n"
     ]
    }
   ],
   "source": [
    "device = 'cuda' if torch.cuda.is_available() else 'cpu'\n",
    "print(f'{device=}')"
   ]
  },
  {
   "cell_type": "markdown",
   "metadata": {},
   "source": [
    "### Dataframe"
   ]
  },
  {
   "metadata": {},
   "cell_type": "markdown",
   "source": [
    "Loading the dataset from kaggle, and preparing the dataframe for the models.\n",
    "This step includes:\n",
    "- Unifying emojis that represent the same thing.\n",
    "- Removing emojis with very few examples.\n",
    "- Adding columns for processed text, tokenized text, and stemmed text."
   ]
  },
  {
   "cell_type": "code",
   "execution_count": 197,
   "metadata": {
    "ExecuteTime": {
     "end_time": "2025-01-16T10:06:17.388231Z",
     "start_time": "2025-01-16T10:06:17.382546Z"
    },
    "id": "uwESk4TT3j4f"
   },
   "outputs": [],
   "source": [
    "def get_emojis_df():\n",
    "    path = dataset_download(\"hariharasudhanas/twitter-emoji-prediction\")\n",
    "\n",
    "    dataframes = {}\n",
    "    for dirpath, dirnames, filenames in os.walk(path):\n",
    "        if \"Train.csv\" in filenames:\n",
    "            csv_path = os.path.join(dirpath, \"Train.csv\")\n",
    "            dataframes[\"Dataset\"] = pd.read_csv(csv_path).drop(['Unnamed: 0'], axis = 1)\n",
    "        if \"Mapping.csv\" in filenames:\n",
    "            csv_path = os.path.join(dirpath, \"Mapping.csv\")\n",
    "            dataframes[\"Mapping\"] = pd.read_csv(csv_path).drop(['Unnamed: 0'], axis = 1)\n",
    "\n",
    "    if len(dataframes) != 2:\n",
    "        raise FileNotFoundError(\"Some files were not found in the specified directories.\")\n",
    "\n",
    "    return dataframes"
   ]
  },
  {
   "cell_type": "code",
   "execution_count": 198,
   "metadata": {
    "ExecuteTime": {
     "end_time": "2025-01-16T10:06:17.583132Z",
     "start_time": "2025-01-16T10:06:17.577511Z"
    }
   },
   "outputs": [],
   "source": [
    "def mapping_to_dict(mapping):\n",
    "    emoticons = mapping['emoticons'].tolist()\n",
    "    mapp = {}\n",
    "    for emo in range(0, len(emoticons)):\n",
    "        mapp[emo]= emoticons[emo]\n",
    "    return mapp"
   ]
  },
  {
   "cell_type": "code",
   "execution_count": 199,
   "metadata": {
    "ExecuteTime": {
     "end_time": "2025-01-16T10:06:17.770706Z",
     "start_time": "2025-01-16T10:06:17.765941Z"
    }
   },
   "outputs": [],
   "source": [
    "def load_or_compute_df(file_path, function, *args):\n",
    "    if os.path.exists(file_path):\n",
    "        print(f\"Loading {file_path}...\")\n",
    "        return joblib.load(file_path)\n",
    "\n",
    "    print(f\"Computing and saving {file_path}...\")\n",
    "    df = function(*args)\n",
    "    joblib.dump(df, file_path)\n",
    "    return df"
   ]
  },
  {
   "cell_type": "code",
   "execution_count": 200,
   "metadata": {
    "ExecuteTime": {
     "end_time": "2025-01-16T10:06:17.971967Z",
     "start_time": "2025-01-16T10:06:17.967841Z"
    }
   },
   "outputs": [],
   "source": [
    "def process_text(text):\n",
    "    text = re.sub(r'\\s+', ' ', text, flags=re.I)  # Remove extra white space from text\n",
    "    # text = re.sub(r'\\W', ' ', str(text))          # Remove all the special characters from text\n",
    "    # text = re.sub(r'\\s+[a-zA-Z]\\s+', ' ', text)   # Remove all single characters from text\n",
    "    # text = re.sub(r'[^a-zA-Z\\s]', '', text)       # Remove any character that isn't alphabetical\n",
    "    text = text.lower()\n",
    "\n",
    "    return text"
   ]
  },
  {
   "cell_type": "code",
   "execution_count": 201,
   "metadata": {
    "ExecuteTime": {
     "end_time": "2025-01-16T10:06:18.206159Z",
     "start_time": "2025-01-16T10:06:18.200821Z"
    }
   },
   "outputs": [],
   "source": [
    "def delete_emoji(df, emoji_number, mapping):\n",
    "    df.drop(df[df['Label'] == emoji_number].index, inplace=True)\n",
    "    mapping[emoji_number] = mapping[len(mapping)-1]\n",
    "    df['Label'] = df['Label'].apply(lambda x: emoji_number if x == len(mapping)-1 else x)\n",
    "    del mapping[len(mapping)-1]\n",
    "    return df, mapping"
   ]
  },
  {
   "cell_type": "code",
   "execution_count": 202,
   "metadata": {
    "ExecuteTime": {
     "end_time": "2025-01-16T10:06:18.442625Z",
     "start_time": "2025-01-16T10:06:18.437189Z"
    }
   },
   "outputs": [],
   "source": [
    "def unify_emojis(df, emojis_numbers, mapping):\n",
    "    new_label = emojis_numbers[0]\n",
    "    for emoji_number in emojis_numbers[1:]:\n",
    "        df['Label'] = df['Label'].apply(lambda x: new_label if x == emoji_number else x)\n",
    "        del mapping[emoji_number]\n",
    "    return df, mapping"
   ]
  },
  {
   "cell_type": "code",
   "execution_count": 203,
   "metadata": {
    "ExecuteTime": {
     "end_time": "2025-01-16T10:06:18.675476Z",
     "start_time": "2025-01-16T10:06:18.670584Z"
    }
   },
   "outputs": [],
   "source": [
    "def fix_missing(df, mapping):\n",
    "    keys_sorted = [key for key in mapping.keys()]\n",
    "    print(keys_sorted, type(keys_sorted))\n",
    "    for i in range(0, len(mapping)):\n",
    "        if i not in mapping:\n",
    "            prev_key = keys_sorted.pop()\n",
    "            df['Label'] = df['Label'].apply(lambda x: i if x == prev_key else x)\n",
    "            mapping[i] = mapping[prev_key]\n",
    "            del mapping[prev_key]\n",
    "    return df, mapping"
   ]
  },
  {
   "cell_type": "code",
   "execution_count": 204,
   "metadata": {
    "ExecuteTime": {
     "end_time": "2025-01-16T10:06:18.877367Z",
     "start_time": "2025-01-16T10:06:18.871467Z"
    }
   },
   "outputs": [],
   "source": [
    "def encode_df(df):\n",
    "    df.dropna(inplace=True)\n",
    "\n",
    "    df['TEXT processed'] = df['TEXT'].apply(process_text)\n",
    "    df['TEXT tokenized'] = df['TEXT processed'].apply(lambda x: word_tokenize(x))\n",
    "    df['TEXT stemmed'] = df['TEXT tokenized'].apply(lambda tokens: [ps.stem(word) for word in tokens if word.isalpha() and word not in stop_words])\n",
    "    return df"
   ]
  },
  {
   "cell_type": "code",
   "execution_count": 284,
   "metadata": {
    "ExecuteTime": {
     "end_time": "2025-01-16T10:06:19.079541Z",
     "start_time": "2025-01-16T10:06:19.072388Z"
    }
   },
   "outputs": [],
   "source": [
    "def get_encoded_dfs():\n",
    "    \"\"\"\n",
    "    Get the encoded dataset with processed, tokenized and stemmed text columns with mapping from labels to emojis.\n",
    "    \"\"\"\n",
    "    dfs = get_emojis_df()\n",
    "\n",
    "    df = dfs['Dataset']\n",
    "    mapping = mapping_to_dict(dfs['Mapping'])\n",
    "    for emoji_num in [19, 12, 11, 9, 8, 5]:  # '❤', '💯', '☀', '🎄', '😘', '🇺🇸'\n",
    "        df, mapping = delete_emoji(df, emoji_num, mapping)\n",
    "    df, mapping = unify_emojis(df, [1, 6], mapping)  # '📷', '📸'\n",
    "    df, mapping = unify_emojis(df, [8, 5, 12], mapping)  # '💙', '💕', '💜'\n",
    "    df, mapping = unify_emojis(df, [10, 0, 4, 11], mapping)  # '😁', '😜', '😉', '😊'\n",
    "    df, mapping = unify_emojis(df, [7, 9], mapping)  # '🔥', '😎'\n",
    "\n",
    "    df, mapping = fix_missing(df, mapping)\n",
    "\n",
    "    df = encode_df(df)\n",
    "\n",
    "    return df, mapping"
   ]
  },
  {
   "cell_type": "code",
   "execution_count": 285,
   "metadata": {
    "ExecuteTime": {
     "end_time": "2025-01-16T10:06:29.909832Z",
     "start_time": "2025-01-16T10:06:19.243968Z"
    },
    "_cell_guid": "79c7e3d0-c299-4dcb-8224-4455121ee9b0",
    "_uuid": "d629ff2d2480ee46fbb7e2d37f6b5fab8052498a",
    "colab": {
     "base_uri": "https://localhost:8080/"
    },
    "id": "GtONDuQx55qe",
    "outputId": "e8a1f123-8ca0-4111-f63d-b5d2c8047b91",
    "papermill": {
     "duration": 0.183818,
     "end_time": "2020-09-16T16:30:56.417110",
     "exception": false,
     "start_time": "2020-09-16T16:30:56.233292",
     "status": "completed"
    },
    "tags": []
   },
   "outputs": [
    {
     "name": "stdout",
     "output_type": "stream",
     "text": [
      "[1, 2, 3, 7, 8, 10, 13] <class 'list'>\n"
     ]
    }
   ],
   "source": [
    "df, emoji_mapping = get_encoded_dfs()\n",
    "# inverse_emoji_mapping = {v: k for k, v in emoji_mapping.items()}"
   ]
  },
  {
   "cell_type": "code",
   "execution_count": 322,
   "metadata": {},
   "outputs": [
    {
     "data": {
      "text/html": [
       "<div>\n",
       "<style scoped>\n",
       "    .dataframe tbody tr th:only-of-type {\n",
       "        vertical-align: middle;\n",
       "    }\n",
       "\n",
       "    .dataframe tbody tr th {\n",
       "        vertical-align: top;\n",
       "    }\n",
       "\n",
       "    .dataframe thead th {\n",
       "        text-align: right;\n",
       "    }\n",
       "</style>\n",
       "<table border=\"1\" class=\"dataframe\">\n",
       "  <thead>\n",
       "    <tr style=\"text-align: right;\">\n",
       "      <th></th>\n",
       "      <th>TEXT</th>\n",
       "      <th>Label</th>\n",
       "      <th>TEXT processed</th>\n",
       "      <th>TEXT tokenized</th>\n",
       "      <th>TEXT stemmed</th>\n",
       "      <th>emoji</th>\n",
       "    </tr>\n",
       "  </thead>\n",
       "  <tbody>\n",
       "    <tr>\n",
       "      <th>43030</th>\n",
       "      <td>In LOVE with Thor: Ragnarok! Saw it in theaters yesterday &amp;amp; it was super funny, there was lots…\\n</td>\n",
       "      <td>2</td>\n",
       "      <td>in love with thor: ragnarok! saw it in theaters yesterday &amp;amp; it was super funny, there was lots…</td>\n",
       "      <td>[in, love, with, thor, :, ragnarok, !, saw, it, in, theaters, yesterday, &amp;, amp, ;, it, was, super, funny, ,, there, was, lots…]</td>\n",
       "      <td>[love, thor, ragnarok, saw, theater, yesterday, amp, super, funni]</td>\n",
       "      <td>😍</td>\n",
       "    </tr>\n",
       "    <tr>\n",
       "      <th>21888</th>\n",
       "      <td>@user @user cosculluelapr @user remix baby musical_ly_followers_free…\\n</td>\n",
       "      <td>6</td>\n",
       "      <td>@user @user cosculluelapr @user remix baby musical_ly_followers_free…</td>\n",
       "      <td>[@, user, @, user, cosculluelapr, @, user, remix, baby, musical_ly_followers_free…]</td>\n",
       "      <td>[user, user, cosculluelapr, user, remix, babi]</td>\n",
       "      <td>🔥</td>\n",
       "    </tr>\n",
       "    <tr>\n",
       "      <th>60737</th>\n",
       "      <td>What a BABE thanks for becoming one of my closest friendsss (plus dana) @ Kutztown University…\\n</td>\n",
       "      <td>5</td>\n",
       "      <td>what a babe thanks for becoming one of my closest friendsss (plus dana) @ kutztown university…</td>\n",
       "      <td>[what, a, babe, thanks, for, becoming, one, of, my, closest, friendsss, (, plus, dana, ), @, kutztown, university…]</td>\n",
       "      <td>[babe, thank, becom, one, closest, friendsss, plu, dana, kutztown]</td>\n",
       "      <td>💕</td>\n",
       "    </tr>\n",
       "    <tr>\n",
       "      <th>5942</th>\n",
       "      <td>So happy the beautiful weather is back for a second round\\n</td>\n",
       "      <td>2</td>\n",
       "      <td>so happy the beautiful weather is back for a second round</td>\n",
       "      <td>[so, happy, the, beautiful, weather, is, back, for, a, second, round]</td>\n",
       "      <td>[happi, beauti, weather, back, second, round]</td>\n",
       "      <td>😍</td>\n",
       "    </tr>\n",
       "    <tr>\n",
       "      <th>44574</th>\n",
       "      <td>regrann from @user - #OmariHardwick vs Fan #ClapBackSeason ( : gettyimages/ Tasos…\\n</td>\n",
       "      <td>1</td>\n",
       "      <td>regrann from @user - #omarihardwick vs fan #clapbackseason ( : gettyimages/ tasos…</td>\n",
       "      <td>[regrann, from, @, user, -, #, omarihardwick, vs, fan, #, clapbackseason, (, :, gettyimages/, tasos…]</td>\n",
       "      <td>[regrann, user, omarihardwick, vs, fan, clapbackseason]</td>\n",
       "      <td>📸</td>\n",
       "    </tr>\n",
       "  </tbody>\n",
       "</table>\n",
       "</div>"
      ],
      "text/plain": [
       "                                                                                                        TEXT  \\\n",
       "43030  In LOVE with Thor: Ragnarok! Saw it in theaters yesterday &amp; it was super funny, there was lots…\\n   \n",
       "21888                                @user @user cosculluelapr @user remix baby musical_ly_followers_free…\\n   \n",
       "60737       What a BABE thanks for becoming one of my closest friendsss (plus dana) @ Kutztown University…\\n   \n",
       "5942                                             So happy the beautiful weather is back for a second round\\n   \n",
       "44574                   regrann from @user - #OmariHardwick vs Fan #ClapBackSeason ( : gettyimages/ Tasos…\\n   \n",
       "\n",
       "       Label  \\\n",
       "43030      2   \n",
       "21888      6   \n",
       "60737      5   \n",
       "5942       2   \n",
       "44574      1   \n",
       "\n",
       "                                                                                             TEXT processed  \\\n",
       "43030  in love with thor: ragnarok! saw it in theaters yesterday &amp; it was super funny, there was lots…    \n",
       "21888                                @user @user cosculluelapr @user remix baby musical_ly_followers_free…    \n",
       "60737       what a babe thanks for becoming one of my closest friendsss (plus dana) @ kutztown university…    \n",
       "5942                                             so happy the beautiful weather is back for a second round    \n",
       "44574                   regrann from @user - #omarihardwick vs fan #clapbackseason ( : gettyimages/ tasos…    \n",
       "\n",
       "                                                                                                                         TEXT tokenized  \\\n",
       "43030  [in, love, with, thor, :, ragnarok, !, saw, it, in, theaters, yesterday, &, amp, ;, it, was, super, funny, ,, there, was, lots…]   \n",
       "21888                                               [@, user, @, user, cosculluelapr, @, user, remix, baby, musical_ly_followers_free…]   \n",
       "60737               [what, a, babe, thanks, for, becoming, one, of, my, closest, friendsss, (, plus, dana, ), @, kutztown, university…]   \n",
       "5942                                                              [so, happy, the, beautiful, weather, is, back, for, a, second, round]   \n",
       "44574                             [regrann, from, @, user, -, #, omarihardwick, vs, fan, #, clapbackseason, (, :, gettyimages/, tasos…]   \n",
       "\n",
       "                                                             TEXT stemmed  \\\n",
       "43030  [love, thor, ragnarok, saw, theater, yesterday, amp, super, funni]   \n",
       "21888                      [user, user, cosculluelapr, user, remix, babi]   \n",
       "60737  [babe, thank, becom, one, closest, friendsss, plu, dana, kutztown]   \n",
       "5942                        [happi, beauti, weather, back, second, round]   \n",
       "44574             [regrann, user, omarihardwick, vs, fan, clapbackseason]   \n",
       "\n",
       "      emoji  \n",
       "43030     😍  \n",
       "21888     🔥  \n",
       "60737     💕  \n",
       "5942      😍  \n",
       "44574     📸  "
      ]
     },
     "execution_count": 322,
     "metadata": {},
     "output_type": "execute_result"
    }
   ],
   "source": [
    "sample = df.sample(5)\n",
    "sample['emoji'] = sample['Label'].map(lambda x: emoji_mapping[x])\n",
    "sample"
   ]
  },
  {
   "cell_type": "markdown",
   "metadata": {},
   "source": [
    "### Train, validation, test splitting"
   ]
  },
  {
   "cell_type": "code",
   "execution_count": 295,
   "metadata": {
    "ExecuteTime": {
     "end_time": "2025-01-16T10:06:29.957870Z",
     "start_time": "2025-01-16T10:06:29.951513Z"
    }
   },
   "outputs": [],
   "source": [
    "def get_split_df(df, train_ratio=0.7, val_ratio=0.15, test_ratio=0.15, random_state=0):\n",
    "    assert (train_ratio + test_ratio + val_ratio) == 1\n",
    "\n",
    "    train_df = df.sample(frac=train_ratio, random_state=random_state)\n",
    "    remaining_df = df.drop(train_df.index)\n",
    "\n",
    "    validation_df = remaining_df.sample(frac=val_ratio / (val_ratio + test_ratio), random_state=random_state)\n",
    "    test_df = remaining_df.drop(validation_df.index)\n",
    "\n",
    "    return train_df, validation_df, test_df"
   ]
  },
  {
   "cell_type": "code",
   "execution_count": 208,
   "metadata": {
    "ExecuteTime": {
     "end_time": "2025-01-16T10:06:30.050106Z",
     "start_time": "2025-01-16T10:06:29.980205Z"
    }
   },
   "outputs": [],
   "source": [
    "train_df, val_df, test_df = get_split_df(df)"
   ]
  },
  {
   "cell_type": "markdown",
   "metadata": {},
   "source": [
    "### Bag of Words"
   ]
  },
  {
   "metadata": {},
   "cell_type": "markdown",
   "source": [
    "Adding bag of words features to the dataframe, which will be used for the softmax model and the simple neural network model.\n",
    "The bag of words columns are the most popular words in the dataset, and the value of each column is the number of times the word appears in the text."
   ]
  },
  {
   "cell_type": "code",
   "execution_count": 209,
   "metadata": {
    "ExecuteTime": {
     "end_time": "2025-01-16T10:06:30.077879Z",
     "start_time": "2025-01-16T10:06:30.072Z"
    }
   },
   "outputs": [],
   "source": [
    "def get_most_popular_words(df, column, num_words=500):\n",
    "    print(f\"Creating dictionary for {column}...\")\n",
    "    dictionary = {}\n",
    "\n",
    "    for tokens in df[column]:\n",
    "        for word in tokens:\n",
    "                dictionary[word] = dictionary.get(word, 0) + 1\n",
    "\n",
    "    # Sort and get the top words\n",
    "    sorted_words = sorted(dictionary.items(), key=lambda item: item[1], reverse=True)\n",
    "    return [word for word, _ in sorted_words[:num_words]]"
   ]
  },
  {
   "cell_type": "code",
   "execution_count": 210,
   "metadata": {
    "ExecuteTime": {
     "end_time": "2025-01-16T10:06:30.191936Z",
     "start_time": "2025-01-16T10:06:30.100088Z"
    }
   },
   "outputs": [
    {
     "name": "stdout",
     "output_type": "stream",
     "text": [
      "Creating dictionary for TEXT stemmed...\n",
      "['user', 'love', 'new', 'amp', 'day', 'happi', 'thank', 'get', 'time', 'night', 'one', 'today', 'got', 'like', 'york']\n"
     ]
    }
   ],
   "source": [
    "top_words = get_most_popular_words(train_df, 'TEXT stemmed')\n",
    "print(top_words[:15])"
   ]
  },
  {
   "cell_type": "code",
   "execution_count": 211,
   "metadata": {
    "ExecuteTime": {
     "end_time": "2025-01-16T10:06:30.255871Z",
     "start_time": "2025-01-16T10:06:30.249506Z"
    }
   },
   "outputs": [],
   "source": [
    "def add_bag_of_words(df, column, bag_of_word):\n",
    "    new_df = df.copy()\n",
    "\n",
    "    for word in bag_of_word:\n",
    "        new_df[f'word: {word}'] = new_df[f'{column}'].apply(lambda x: int(x.count(word)))\n",
    "        new_df[f'word: {word}'] = new_df[f'word: {word}'].astype('float32')\n",
    "        new_df = new_df.copy()\n",
    "\n",
    "    return new_df"
   ]
  },
  {
   "cell_type": "code",
   "execution_count": 212,
   "metadata": {
    "ExecuteTime": {
     "end_time": "2025-01-16T10:07:19.222537Z",
     "start_time": "2025-01-16T10:06:30.285022Z"
    }
   },
   "outputs": [
    {
     "name": "stdout",
     "output_type": "stream",
     "text": [
      "Loading train_encoded.joblib...\n",
      "Loading val_encoded.joblib...\n",
      "Loading test_encoded.joblib...\n"
     ]
    }
   ],
   "source": [
    "train_df = load_or_compute_df(\"train_encoded.joblib\", add_bag_of_words, train_df, 'TEXT stemmed', top_words)\n",
    "val_df = load_or_compute_df(\"val_encoded.joblib\", add_bag_of_words, val_df, 'TEXT stemmed', top_words)\n",
    "test_df = load_or_compute_df(\"test_encoded.joblib\", add_bag_of_words, test_df, 'TEXT stemmed', top_words)"
   ]
  },
  {
   "cell_type": "code",
   "execution_count": 213,
   "metadata": {
    "ExecuteTime": {
     "end_time": "2025-01-16T10:07:19.256842Z",
     "start_time": "2025-01-16T10:07:19.252539Z"
    }
   },
   "outputs": [],
   "source": [
    "BOW_FEATURES = [f'word: {word}' for word in top_words]\n",
    "TARGET = 'Label'"
   ]
  },
  {
   "cell_type": "markdown",
   "metadata": {},
   "source": [
    "### Model Evaluation"
   ]
  },
  {
   "cell_type": "code",
   "execution_count": 214,
   "metadata": {
    "ExecuteTime": {
     "end_time": "2025-01-16T10:07:19.293044Z",
     "start_time": "2025-01-16T10:07:19.287486Z"
    }
   },
   "outputs": [],
   "source": [
    "def print_metrics(model_name, y_true, y_pred):\n",
    "    print(f'/////// {model_name} Evaluation ///////')\n",
    "    accuracy = accuracy_score(y_true, y_pred)\n",
    "    precision = precision_score(y_true, y_pred, average='weighted')\n",
    "    recall = recall_score(y_true, y_pred, average='weighted')\n",
    "    f1 = f1_score(y_true, y_pred, average='weighted')\n",
    "\n",
    "    print(f'Accuracy: {accuracy:.4f}')\n",
    "    print(f'Precision: {precision:.4f} (weighted)')\n",
    "    print(f'Recall: {recall:.4f} (weighted)')\n",
    "    print(f'F1 Score: {f1:.4f} (weighted)')"
   ]
  },
  {
   "cell_type": "code",
   "execution_count": 215,
   "metadata": {
    "ExecuteTime": {
     "end_time": "2025-01-16T10:07:19.326475Z",
     "start_time": "2025-01-16T10:07:19.321822Z"
    }
   },
   "outputs": [],
   "source": [
    "def plot_confusion_matrix(y_true, y_pred, labels):\n",
    "    cm = confusion_matrix(y_true, y_pred)\n",
    "    plt.figure(figsize=(10, 6))\n",
    "    sns.heatmap(cm, annot=True, fmt='d', xticklabels=labels, yticklabels=labels)\n",
    "    plt.xlabel('Predicted')\n",
    "    plt.ylabel('Actual')\n",
    "    plt.title('Confusion Matrix')\n",
    "    plt.show()"
   ]
  },
  {
   "cell_type": "code",
   "execution_count": 216,
   "metadata": {
    "ExecuteTime": {
     "end_time": "2025-01-16T10:07:19.387731Z",
     "start_time": "2025-01-16T10:07:19.382512Z"
    }
   },
   "outputs": [],
   "source": [
    "def print_model_evaluation(model_name, y_true, y_pred):\n",
    "\n",
    "    print_metrics(model_name, y_true, y_pred)\n",
    "    plot_confusion_matrix(y_true, y_pred, emoji_mapping)\n",
    "\n",
    "    print('\\n/////// Detailed Classification Report ///////')\n",
    "    print(classification_report(y_true, y_pred, digits=4))"
   ]
  },
  {
   "cell_type": "markdown",
   "metadata": {},
   "source": [
    "### Saving Models"
   ]
  },
  {
   "cell_type": "code",
   "execution_count": 217,
   "metadata": {
    "ExecuteTime": {
     "end_time": "2025-01-16T10:07:19.406109Z",
     "start_time": "2025-01-16T10:07:19.402348Z"
    }
   },
   "outputs": [],
   "source": [
    "TRAINED_MODELS_FOLDER = 'trained_models'"
   ]
  },
  {
   "cell_type": "code",
   "execution_count": 218,
   "metadata": {
    "ExecuteTime": {
     "end_time": "2025-01-16T10:07:19.440705Z",
     "start_time": "2025-01-16T10:07:19.437216Z"
    }
   },
   "outputs": [],
   "source": [
    "if not os.path.exists(TRAINED_MODELS_FOLDER):\n",
    "    os.makedirs(TRAINED_MODELS_FOLDER)"
   ]
  },
  {
   "cell_type": "code",
   "execution_count": 219,
   "metadata": {
    "ExecuteTime": {
     "end_time": "2025-01-16T10:07:19.476441Z",
     "start_time": "2025-01-16T10:07:19.472164Z"
    }
   },
   "outputs": [],
   "source": [
    "def save_model(model, model_name):\n",
    "    model_save_path = os.path.join(TRAINED_MODELS_FOLDER, model_name)\n",
    "    torch.save(model.state_dict(), model_save_path)\n",
    "    print(f\"Model saved to {model_save_path}\")"
   ]
  },
  {
   "cell_type": "markdown",
   "metadata": {},
   "source": [
    "## Data Analysis"
   ]
  },
  {
   "metadata": {},
   "cell_type": "markdown",
   "source": [
    "In this part we will analyze the dataset, the distribution of the labels, the number of words in each example, and the total number of words in the dataset.\n",
    "\n",
    "This is an essential step to understand the dataset and the problem we are trying to solve, and to identify any potential issues that may affect the models.\n",
    "\n",
    "This analysis will help us to:\n",
    "- Choose the length of the sequences for the LSTM models.\n",
    "- Understand the distribution of the labels in order to choose the right evaluation metrics.\n",
    "- Identify any class imbalance that may affect the models.\n",
    "- Identify any potential issues in the dataset that may affect the models."
   ]
  },
  {
   "cell_type": "code",
   "execution_count": 220,
   "metadata": {
    "ExecuteTime": {
     "end_time": "2025-01-16T10:07:19.514586Z",
     "start_time": "2025-01-16T10:07:19.509094Z"
    },
    "colab": {
     "base_uri": "https://localhost:8080/"
    },
    "id": "DI8_mGCw55qg",
    "outputId": "8d41fab0-ce6f-479c-b4f1-a19d8247e838",
    "papermill": {
     "duration": 0.028027,
     "end_time": "2020-09-16T16:30:56.824592",
     "exception": false,
     "start_time": "2020-09-16T16:30:56.796565",
     "status": "completed"
    },
    "tags": []
   },
   "outputs": [
    {
     "name": "stdout",
     "output_type": "stream",
     "text": [
      "Number of training examples:  31396\n",
      "Number of test examples:  6728\n"
     ]
    }
   ],
   "source": [
    "print('Number of training examples: ', len(train_df))\n",
    "print('Number of test examples: ', len(test_df))"
   ]
  },
  {
   "cell_type": "code",
   "execution_count": 221,
   "metadata": {
    "ExecuteTime": {
     "end_time": "2025-01-16T10:07:19.719287Z",
     "start_time": "2025-01-16T10:07:19.548745Z"
    }
   },
   "outputs": [
    {
     "data": {
      "image/png": "[encoded data removed]",
      "text/plain": [
       "<Figure size 640x480 with 1 Axes>"
      ]
     },
     "metadata": {},
     "output_type": "display_data"
    }
   ],
   "source": [
    "# Histogram of number of words in each example\n",
    "train_df['TEXT processed'].apply(lambda x: len(x.split())).hist(bins=max(train_df['TEXT processed'].apply(lambda x: len(x.split()))))\n",
    "plt.xlabel('Number of Words')\n",
    "plt.ylabel('Number of Examples')\n",
    "plt.title('Number of Words in Each Example')\n",
    "plt.show()"
   ]
  },
  {
   "cell_type": "code",
   "execution_count": 222,
   "metadata": {
    "ExecuteTime": {
     "end_time": "2025-01-16T10:07:19.767658Z",
     "start_time": "2025-01-16T10:07:19.750896Z"
    }
   },
   "outputs": [
    {
     "name": "stdout",
     "output_type": "stream",
     "text": [
      "Total number of words in the dataset:  461749\n"
     ]
    }
   ],
   "source": [
    "# Total number of words in the dataset\n",
    "total_words = train_df['TEXT tokenized'].apply(lambda x: len(x)).sum()\n",
    "print('Total number of words in the dataset: ', total_words)"
   ]
  },
  {
   "cell_type": "code",
   "execution_count": 223,
   "metadata": {
    "ExecuteTime": {
     "end_time": "2025-01-16T10:07:19.912078Z",
     "start_time": "2025-01-16T10:07:19.799859Z"
    }
   },
   "outputs": [
    {
     "data": {
      "image/png": "[encoded data removed]",
      "text/plain": [
       "<Figure size 1000x600 with 1 Axes>"
      ]
     },
     "metadata": {},
     "output_type": "display_data"
    }
   ],
   "source": [
    "category_counts = df['Label'].value_counts()\n",
    "\n",
    "plt.figure(figsize=(10, 6))\n",
    "plt.bar(category_counts.index, category_counts.values)\n",
    "\n",
    "plt.xlabel('Category')\n",
    "plt.ylabel('Number of Examples')\n",
    "plt.title('Number of Examples for Each Label')\n",
    "\n",
    "plt.xticks(ticks=category_counts.index, labels=category_counts.index)\n",
    "plt.show()"
   ]
  },
  {
   "cell_type": "code",
   "execution_count": 224,
   "metadata": {
    "ExecuteTime": {
     "end_time": "2025-01-16T10:07:20.018506Z",
     "start_time": "2025-01-16T10:07:19.946305Z"
    }
   },
   "outputs": [
    {
     "data": {
      "image/png": "[encoded data removed]",
      "text/plain": [
       "<Figure size 800x800 with 1 Axes>"
      ]
     },
     "metadata": {},
     "output_type": "display_data"
    }
   ],
   "source": [
    "category_counts = train_df['Label'].value_counts()\n",
    "\n",
    "plt.figure(figsize=(8, 8))  # Adjust the size of the pie chart\n",
    "plt.pie(\n",
    "    category_counts.values,\n",
    "    labels=category_counts.index, # Optional: Use actual emojis\n",
    "    autopct='%1.1f%%',\n",
    "    startangle=90,\n",
    "    colors=plt.cm.Paired.colors  # Optional: Use a colormap for better visuals\n",
    ")\n",
    "\n",
    "plt.title('Distribution of Labels')\n",
    "plt.show()\n"
   ]
  },
  {
   "cell_type": "code",
   "execution_count": 225,
   "metadata": {
    "ExecuteTime": {
     "end_time": "2025-01-16T10:07:20.064696Z",
     "start_time": "2025-01-16T10:07:20.058471Z"
    }
   },
   "outputs": [
    {
     "data": {
      "text/plain": [
       "{1: '📸', 2: '😍', 3: '😂', 0: '✨', 4: '😁', 5: '💕', 6: '🔥'}"
      ]
     },
     "execution_count": 225,
     "metadata": {},
     "output_type": "execute_result"
    }
   ],
   "source": [
    "emoji_mapping"
   ]
  },
  {
   "cell_type": "markdown",
   "metadata": {},
   "source": [
    "## Baseline Model"
   ]
  },
  {
   "metadata": {},
   "cell_type": "markdown",
   "source": [
    "The baseline model is a dummy classifier that always predicts the most frequent class.\n",
    "\n",
    "This model will be used as a baseline to compare the performance of the other models and proves that the other models are learning something useful from the data."
   ]
  },
  {
   "cell_type": "code",
   "execution_count": 226,
   "metadata": {
    "ExecuteTime": {
     "end_time": "2025-01-16T10:07:20.182933Z",
     "start_time": "2025-01-16T10:07:20.106928Z"
    }
   },
   "outputs": [],
   "source": [
    "baseline_x_train = pd.concat([train_df[BOW_FEATURES], val_df[BOW_FEATURES]], axis=0)\n",
    "baseline_y_train = pd.concat([train_df[TARGET], val_df[TARGET]])\n",
    "\n",
    "baseline_x_test = test_df[BOW_FEATURES]\n",
    "baseline_y_test = test_df[TARGET]"
   ]
  },
  {
   "cell_type": "code",
   "execution_count": 227,
   "metadata": {
    "ExecuteTime": {
     "end_time": "2025-01-16T10:07:20.237683Z",
     "start_time": "2025-01-16T10:07:20.234176Z"
    }
   },
   "outputs": [],
   "source": [
    "baseline_model = DummyClassifier(strategy='most_frequent')"
   ]
  },
  {
   "cell_type": "code",
   "execution_count": 228,
   "metadata": {
    "ExecuteTime": {
     "end_time": "2025-01-16T10:07:20.297339Z",
     "start_time": "2025-01-16T10:07:20.285138Z"
    }
   },
   "outputs": [
    {
     "name": "stdout",
     "output_type": "stream",
     "text": [
      "Training baseline model...\n"
     ]
    },
    {
     "data": {
      "text/html": [
       "<style>#sk-container-id-4 {\n",
       "  /* Definition of color scheme common for light and dark mode */\n",
       "  --sklearn-color-text: #000;\n",
       "  --sklearn-color-text-muted: #666;\n",
       "  --sklearn-color-line: gray;\n",
       "  /* Definition of color scheme for unfitted estimators */\n",
       "  --sklearn-color-unfitted-level-0: #fff5e6;\n",
       "  --sklearn-color-unfitted-level-1: #f6e4d2;\n",
       "  --sklearn-color-unfitted-level-2: #ffe0b3;\n",
       "  --sklearn-color-unfitted-level-3: chocolate;\n",
       "  /* Definition of color scheme for fitted estimators */\n",
       "  --sklearn-color-fitted-level-0: #f0f8ff;\n",
       "  --sklearn-color-fitted-level-1: #d4ebff;\n",
       "  --sklearn-color-fitted-level-2: #b3dbfd;\n",
       "  --sklearn-color-fitted-level-3: cornflowerblue;\n",
       "\n",
       "  /* Specific color for light theme */\n",
       "  --sklearn-color-text-on-default-background: var(--sg-text-color, var(--theme-code-foreground, var(--jp-content-font-color1, black)));\n",
       "  --sklearn-color-background: var(--sg-background-color, var(--theme-background, var(--jp-layout-color0, white)));\n",
       "  --sklearn-color-border-box: var(--sg-text-color, var(--theme-code-foreground, var(--jp-content-font-color1, black)));\n",
       "  --sklearn-color-icon: #696969;\n",
       "\n",
       "  @media (prefers-color-scheme: dark) {\n",
       "    /* Redefinition of color scheme for dark theme */\n",
       "    --sklearn-color-text-on-default-background: var(--sg-text-color, var(--theme-code-foreground, var(--jp-content-font-color1, white)));\n",
       "    --sklearn-color-background: var(--sg-background-color, var(--theme-background, var(--jp-layout-color0, #111)));\n",
       "    --sklearn-color-border-box: var(--sg-text-color, var(--theme-code-foreground, var(--jp-content-font-color1, white)));\n",
       "    --sklearn-color-icon: #878787;\n",
       "  }\n",
       "}\n",
       "\n",
       "#sk-container-id-4 {\n",
       "  color: var(--sklearn-color-text);\n",
       "}\n",
       "\n",
       "#sk-container-id-4 pre {\n",
       "  padding: 0;\n",
       "}\n",
       "\n",
       "#sk-container-id-4 input.sk-hidden--visually {\n",
       "  border: 0;\n",
       "  clip: rect(1px 1px 1px 1px);\n",
       "  clip: rect(1px, 1px, 1px, 1px);\n",
       "  height: 1px;\n",
       "  margin: -1px;\n",
       "  overflow: hidden;\n",
       "  padding: 0;\n",
       "  position: absolute;\n",
       "  width: 1px;\n",
       "}\n",
       "\n",
       "#sk-container-id-4 div.sk-dashed-wrapped {\n",
       "  border: 1px dashed var(--sklearn-color-line);\n",
       "  margin: 0 0.4em 0.5em 0.4em;\n",
       "  box-sizing: border-box;\n",
       "  padding-bottom: 0.4em;\n",
       "  background-color: var(--sklearn-color-background);\n",
       "}\n",
       "\n",
       "#sk-container-id-4 div.sk-container {\n",
       "  /* jupyter's `normalize.less` sets `[hidden] { display: none; }`\n",
       "     but bootstrap.min.css set `[hidden] { display: none !important; }`\n",
       "     so we also need the `!important` here to be able to override the\n",
       "     default hidden behavior on the sphinx rendered scikit-learn.org.\n",
       "     See: https://github.com/scikit-learn/scikit-learn/issues/21755 */\n",
       "  display: inline-block !important;\n",
       "  position: relative;\n",
       "}\n",
       "\n",
       "#sk-container-id-4 div.sk-text-repr-fallback {\n",
       "  display: none;\n",
       "}\n",
       "\n",
       "div.sk-parallel-item,\n",
       "div.sk-serial,\n",
       "div.sk-item {\n",
       "  /* draw centered vertical line to link estimators */\n",
       "  background-image: linear-gradient(var(--sklearn-color-text-on-default-background), var(--sklearn-color-text-on-default-background));\n",
       "  background-size: 2px 100%;\n",
       "  background-repeat: no-repeat;\n",
       "  background-position: center center;\n",
       "}\n",
       "\n",
       "/* Parallel-specific style estimator block */\n",
       "\n",
       "#sk-container-id-4 div.sk-parallel-item::after {\n",
       "  content: \"\";\n",
       "  width: 100%;\n",
       "  border-bottom: 2px solid var(--sklearn-color-text-on-default-background);\n",
       "  flex-grow: 1;\n",
       "}\n",
       "\n",
       "#sk-container-id-4 div.sk-parallel {\n",
       "  display: flex;\n",
       "  align-items: stretch;\n",
       "  justify-content: center;\n",
       "  background-color: var(--sklearn-color-background);\n",
       "  position: relative;\n",
       "}\n",
       "\n",
       "#sk-container-id-4 div.sk-parallel-item {\n",
       "  display: flex;\n",
       "  flex-direction: column;\n",
       "}\n",
       "\n",
       "#sk-container-id-4 div.sk-parallel-item:first-child::after {\n",
       "  align-self: flex-end;\n",
       "  width: 50%;\n",
       "}\n",
       "\n",
       "#sk-container-id-4 div.sk-parallel-item:last-child::after {\n",
       "  align-self: flex-start;\n",
       "  width: 50%;\n",
       "}\n",
       "\n",
       "#sk-container-id-4 div.sk-parallel-item:only-child::after {\n",
       "  width: 0;\n",
       "}\n",
       "\n",
       "/* Serial-specific style estimator block */\n",
       "\n",
       "#sk-container-id-4 div.sk-serial {\n",
       "  display: flex;\n",
       "  flex-direction: column;\n",
       "  align-items: center;\n",
       "  background-color: var(--sklearn-color-background);\n",
       "  padding-right: 1em;\n",
       "  padding-left: 1em;\n",
       "}\n",
       "\n",
       "\n",
       "/* Toggleable style: style used for estimator/Pipeline/ColumnTransformer box that is\n",
       "clickable and can be expanded/collapsed.\n",
       "- Pipeline and ColumnTransformer use this feature and define the default style\n",
       "- Estimators will overwrite some part of the style using the `sk-estimator` class\n",
       "*/\n",
       "\n",
       "/* Pipeline and ColumnTransformer style (default) */\n",
       "\n",
       "#sk-container-id-4 div.sk-toggleable {\n",
       "  /* Default theme specific background. It is overwritten whether we have a\n",
       "  specific estimator or a Pipeline/ColumnTransformer */\n",
       "  background-color: var(--sklearn-color-background);\n",
       "}\n",
       "\n",
       "/* Toggleable label */\n",
       "#sk-container-id-4 label.sk-toggleable__label {\n",
       "  cursor: pointer;\n",
       "  display: flex;\n",
       "  width: 100%;\n",
       "  margin-bottom: 0;\n",
       "  padding: 0.5em;\n",
       "  box-sizing: border-box;\n",
       "  text-align: center;\n",
       "  align-items: start;\n",
       "  justify-content: space-between;\n",
       "  gap: 0.5em;\n",
       "}\n",
       "\n",
       "#sk-container-id-4 label.sk-toggleable__label .caption {\n",
       "  font-size: 0.6rem;\n",
       "  font-weight: lighter;\n",
       "  color: var(--sklearn-color-text-muted);\n",
       "}\n",
       "\n",
       "#sk-container-id-4 label.sk-toggleable__label-arrow:before {\n",
       "  /* Arrow on the left of the label */\n",
       "  content: \"▸\";\n",
       "  float: left;\n",
       "  margin-right: 0.25em;\n",
       "  color: var(--sklearn-color-icon);\n",
       "}\n",
       "\n",
       "#sk-container-id-4 label.sk-toggleable__label-arrow:hover:before {\n",
       "  color: var(--sklearn-color-text);\n",
       "}\n",
       "\n",
       "/* Toggleable content - dropdown */\n",
       "\n",
       "#sk-container-id-4 div.sk-toggleable__content {\n",
       "  max-height: 0;\n",
       "  max-width: 0;\n",
       "  overflow: hidden;\n",
       "  text-align: left;\n",
       "  /* unfitted */\n",
       "  background-color: var(--sklearn-color-unfitted-level-0);\n",
       "}\n",
       "\n",
       "#sk-container-id-4 div.sk-toggleable__content.fitted {\n",
       "  /* fitted */\n",
       "  background-color: var(--sklearn-color-fitted-level-0);\n",
       "}\n",
       "\n",
       "#sk-container-id-4 div.sk-toggleable__content pre {\n",
       "  margin: 0.2em;\n",
       "  border-radius: 0.25em;\n",
       "  color: var(--sklearn-color-text);\n",
       "  /* unfitted */\n",
       "  background-color: var(--sklearn-color-unfitted-level-0);\n",
       "}\n",
       "\n",
       "#sk-container-id-4 div.sk-toggleable__content.fitted pre {\n",
       "  /* unfitted */\n",
       "  background-color: var(--sklearn-color-fitted-level-0);\n",
       "}\n",
       "\n",
       "#sk-container-id-4 input.sk-toggleable__control:checked~div.sk-toggleable__content {\n",
       "  /* Expand drop-down */\n",
       "  max-height: 200px;\n",
       "  max-width: 100%;\n",
       "  overflow: auto;\n",
       "}\n",
       "\n",
       "#sk-container-id-4 input.sk-toggleable__control:checked~label.sk-toggleable__label-arrow:before {\n",
       "  content: \"▾\";\n",
       "}\n",
       "\n",
       "/* Pipeline/ColumnTransformer-specific style */\n",
       "\n",
       "#sk-container-id-4 div.sk-label input.sk-toggleable__control:checked~label.sk-toggleable__label {\n",
       "  color: var(--sklearn-color-text);\n",
       "  background-color: var(--sklearn-color-unfitted-level-2);\n",
       "}\n",
       "\n",
       "#sk-container-id-4 div.sk-label.fitted input.sk-toggleable__control:checked~label.sk-toggleable__label {\n",
       "  background-color: var(--sklearn-color-fitted-level-2);\n",
       "}\n",
       "\n",
       "/* Estimator-specific style */\n",
       "\n",
       "/* Colorize estimator box */\n",
       "#sk-container-id-4 div.sk-estimator input.sk-toggleable__control:checked~label.sk-toggleable__label {\n",
       "  /* unfitted */\n",
       "  background-color: var(--sklearn-color-unfitted-level-2);\n",
       "}\n",
       "\n",
       "#sk-container-id-4 div.sk-estimator.fitted input.sk-toggleable__control:checked~label.sk-toggleable__label {\n",
       "  /* fitted */\n",
       "  background-color: var(--sklearn-color-fitted-level-2);\n",
       "}\n",
       "\n",
       "#sk-container-id-4 div.sk-label label.sk-toggleable__label,\n",
       "#sk-container-id-4 div.sk-label label {\n",
       "  /* The background is the default theme color */\n",
       "  color: var(--sklearn-color-text-on-default-background);\n",
       "}\n",
       "\n",
       "/* On hover, darken the color of the background */\n",
       "#sk-container-id-4 div.sk-label:hover label.sk-toggleable__label {\n",
       "  color: var(--sklearn-color-text);\n",
       "  background-color: var(--sklearn-color-unfitted-level-2);\n",
       "}\n",
       "\n",
       "/* Label box, darken color on hover, fitted */\n",
       "#sk-container-id-4 div.sk-label.fitted:hover label.sk-toggleable__label.fitted {\n",
       "  color: var(--sklearn-color-text);\n",
       "  background-color: var(--sklearn-color-fitted-level-2);\n",
       "}\n",
       "\n",
       "/* Estimator label */\n",
       "\n",
       "#sk-container-id-4 div.sk-label label {\n",
       "  font-family: monospace;\n",
       "  font-weight: bold;\n",
       "  display: inline-block;\n",
       "  line-height: 1.2em;\n",
       "}\n",
       "\n",
       "#sk-container-id-4 div.sk-label-container {\n",
       "  text-align: center;\n",
       "}\n",
       "\n",
       "/* Estimator-specific */\n",
       "#sk-container-id-4 div.sk-estimator {\n",
       "  font-family: monospace;\n",
       "  border: 1px dotted var(--sklearn-color-border-box);\n",
       "  border-radius: 0.25em;\n",
       "  box-sizing: border-box;\n",
       "  margin-bottom: 0.5em;\n",
       "  /* unfitted */\n",
       "  background-color: var(--sklearn-color-unfitted-level-0);\n",
       "}\n",
       "\n",
       "#sk-container-id-4 div.sk-estimator.fitted {\n",
       "  /* fitted */\n",
       "  background-color: var(--sklearn-color-fitted-level-0);\n",
       "}\n",
       "\n",
       "/* on hover */\n",
       "#sk-container-id-4 div.sk-estimator:hover {\n",
       "  /* unfitted */\n",
       "  background-color: var(--sklearn-color-unfitted-level-2);\n",
       "}\n",
       "\n",
       "#sk-container-id-4 div.sk-estimator.fitted:hover {\n",
       "  /* fitted */\n",
       "  background-color: var(--sklearn-color-fitted-level-2);\n",
       "}\n",
       "\n",
       "/* Specification for estimator info (e.g. \"i\" and \"?\") */\n",
       "\n",
       "/* Common style for \"i\" and \"?\" */\n",
       "\n",
       ".sk-estimator-doc-link,\n",
       "a:link.sk-estimator-doc-link,\n",
       "a:visited.sk-estimator-doc-link {\n",
       "  float: right;\n",
       "  font-size: smaller;\n",
       "  line-height: 1em;\n",
       "  font-family: monospace;\n",
       "  background-color: var(--sklearn-color-background);\n",
       "  border-radius: 1em;\n",
       "  height: 1em;\n",
       "  width: 1em;\n",
       "  text-decoration: none !important;\n",
       "  margin-left: 0.5em;\n",
       "  text-align: center;\n",
       "  /* unfitted */\n",
       "  border: var(--sklearn-color-unfitted-level-1) 1pt solid;\n",
       "  color: var(--sklearn-color-unfitted-level-1);\n",
       "}\n",
       "\n",
       ".sk-estimator-doc-link.fitted,\n",
       "a:link.sk-estimator-doc-link.fitted,\n",
       "a:visited.sk-estimator-doc-link.fitted {\n",
       "  /* fitted */\n",
       "  border: var(--sklearn-color-fitted-level-1) 1pt solid;\n",
       "  color: var(--sklearn-color-fitted-level-1);\n",
       "}\n",
       "\n",
       "/* On hover */\n",
       "div.sk-estimator:hover .sk-estimator-doc-link:hover,\n",
       ".sk-estimator-doc-link:hover,\n",
       "div.sk-label-container:hover .sk-estimator-doc-link:hover,\n",
       ".sk-estimator-doc-link:hover {\n",
       "  /* unfitted */\n",
       "  background-color: var(--sklearn-color-unfitted-level-3);\n",
       "  color: var(--sklearn-color-background);\n",
       "  text-decoration: none;\n",
       "}\n",
       "\n",
       "div.sk-estimator.fitted:hover .sk-estimator-doc-link.fitted:hover,\n",
       ".sk-estimator-doc-link.fitted:hover,\n",
       "div.sk-label-container:hover .sk-estimator-doc-link.fitted:hover,\n",
       ".sk-estimator-doc-link.fitted:hover {\n",
       "  /* fitted */\n",
       "  background-color: var(--sklearn-color-fitted-level-3);\n",
       "  color: var(--sklearn-color-background);\n",
       "  text-decoration: none;\n",
       "}\n",
       "\n",
       "/* Span, style for the box shown on hovering the info icon */\n",
       ".sk-estimator-doc-link span {\n",
       "  display: none;\n",
       "  z-index: 9999;\n",
       "  position: relative;\n",
       "  font-weight: normal;\n",
       "  right: .2ex;\n",
       "  padding: .5ex;\n",
       "  margin: .5ex;\n",
       "  width: min-content;\n",
       "  min-width: 20ex;\n",
       "  max-width: 50ex;\n",
       "  color: var(--sklearn-color-text);\n",
       "  box-shadow: 2pt 2pt 4pt #999;\n",
       "  /* unfitted */\n",
       "  background: var(--sklearn-color-unfitted-level-0);\n",
       "  border: .5pt solid var(--sklearn-color-unfitted-level-3);\n",
       "}\n",
       "\n",
       ".sk-estimator-doc-link.fitted span {\n",
       "  /* fitted */\n",
       "  background: var(--sklearn-color-fitted-level-0);\n",
       "  border: var(--sklearn-color-fitted-level-3);\n",
       "}\n",
       "\n",
       ".sk-estimator-doc-link:hover span {\n",
       "  display: block;\n",
       "}\n",
       "\n",
       "/* \"?\"-specific style due to the `<a>` HTML tag */\n",
       "\n",
       "#sk-container-id-4 a.estimator_doc_link {\n",
       "  float: right;\n",
       "  font-size: 1rem;\n",
       "  line-height: 1em;\n",
       "  font-family: monospace;\n",
       "  background-color: var(--sklearn-color-background);\n",
       "  border-radius: 1rem;\n",
       "  height: 1rem;\n",
       "  width: 1rem;\n",
       "  text-decoration: none;\n",
       "  /* unfitted */\n",
       "  color: var(--sklearn-color-unfitted-level-1);\n",
       "  border: var(--sklearn-color-unfitted-level-1) 1pt solid;\n",
       "}\n",
       "\n",
       "#sk-container-id-4 a.estimator_doc_link.fitted {\n",
       "  /* fitted */\n",
       "  border: var(--sklearn-color-fitted-level-1) 1pt solid;\n",
       "  color: var(--sklearn-color-fitted-level-1);\n",
       "}\n",
       "\n",
       "/* On hover */\n",
       "#sk-container-id-4 a.estimator_doc_link:hover {\n",
       "  /* unfitted */\n",
       "  background-color: var(--sklearn-color-unfitted-level-3);\n",
       "  color: var(--sklearn-color-background);\n",
       "  text-decoration: none;\n",
       "}\n",
       "\n",
       "#sk-container-id-4 a.estimator_doc_link.fitted:hover {\n",
       "  /* fitted */\n",
       "  background-color: var(--sklearn-color-fitted-level-3);\n",
       "}\n",
       "</style><div id=\"sk-container-id-4\" class=\"sk-top-container\"><div class=\"sk-text-repr-fallback\"><pre>DummyClassifier(strategy=&#x27;most_frequent&#x27;)</pre><b>In a Jupyter environment, please rerun this cell to show the HTML representation or trust the notebook. <br />On GitHub, the HTML representation is unable to render, please try loading this page with nbviewer.org.</b></div><div class=\"sk-container\" hidden><div class=\"sk-item\"><div class=\"sk-estimator fitted sk-toggleable\"><input class=\"sk-toggleable__control sk-hidden--visually\" id=\"sk-estimator-id-4\" type=\"checkbox\" checked><label for=\"sk-estimator-id-4\" class=\"sk-toggleable__label fitted sk-toggleable__label-arrow\"><div><div>DummyClassifier</div></div><div><a class=\"sk-estimator-doc-link fitted\" rel=\"noreferrer\" target=\"_blank\" href=\"https://scikit-learn.org/1.6/modules/generated/sklearn.dummy.DummyClassifier.html\">?<span>Documentation for DummyClassifier</span></a><span class=\"sk-estimator-doc-link fitted\">i<span>Fitted</span></span></div></label><div class=\"sk-toggleable__content fitted\"><pre>DummyClassifier(strategy=&#x27;most_frequent&#x27;)</pre></div> </div></div></div></div>"
      ],
      "text/plain": [
       "DummyClassifier(strategy='most_frequent')"
      ]
     },
     "execution_count": 228,
     "metadata": {},
     "output_type": "execute_result"
    }
   ],
   "source": [
    "print('Training baseline model...')\n",
    "baseline_model.fit(baseline_x_train, baseline_y_train)"
   ]
  },
  {
   "cell_type": "code",
   "execution_count": 229,
   "metadata": {
    "ExecuteTime": {
     "end_time": "2025-01-16T10:07:20.355183Z",
     "start_time": "2025-01-16T10:07:20.344725Z"
    }
   },
   "outputs": [
    {
     "name": "stdout",
     "output_type": "stream",
     "text": [
      "Predicting with baseline model...\n"
     ]
    }
   ],
   "source": [
    "print('Predicting with baseline model...')\n",
    "baseline_y_pred = baseline_model.predict(baseline_x_test)"
   ]
  },
  {
   "cell_type": "code",
   "execution_count": 230,
   "metadata": {
    "ExecuteTime": {
     "end_time": "2025-01-16T10:07:20.633927Z",
     "start_time": "2025-01-16T10:07:20.399569Z"
    }
   },
   "outputs": [
    {
     "name": "stdout",
     "output_type": "stream",
     "text": [
      "/////// Baseline Model Evaluation ///////\n",
      "Accuracy: 0.1758\n",
      "Precision: 0.0309 (weighted)\n",
      "Recall: 0.1758 (weighted)\n",
      "F1 Score: 0.0526 (weighted)\n"
     ]
    },
    {
     "name": "stderr",
     "output_type": "stream",
     "text": [
      "C:\\Users\\Chaim\\AppData\\Local\\Programs\\Python\\Python312\\Lib\\site-packages\\sklearn\\metrics\\_classification.py:1565: UndefinedMetricWarning: Precision is ill-defined and being set to 0.0 in labels with no predicted samples. Use `zero_division` parameter to control this behavior.\n",
      "  _warn_prf(average, modifier, f\"{metric.capitalize()} is\", len(result))\n"
     ]
    },
    {
     "data": {
      "image/png": "[encoded data removed]",
      "text/plain": [
       "<Figure size 1000x600 with 2 Axes>"
      ]
     },
     "metadata": {},
     "output_type": "display_data"
    },
    {
     "name": "stdout",
     "output_type": "stream",
     "text": [
      "\n",
      "/////// Detailed Classification Report ///////\n",
      "              precision    recall  f1-score   support\n",
      "\n",
      "           0     0.0000    0.0000    0.0000       447\n",
      "           1     0.0000    0.0000    0.0000       691\n",
      "           2     0.0000    0.0000    0.0000      1091\n",
      "           3     0.0000    0.0000    0.0000      1054\n",
      "           4     0.1758    1.0000    0.2991      1183\n",
      "           5     0.0000    0.0000    0.0000      1187\n",
      "           6     0.0000    0.0000    0.0000      1075\n",
      "\n",
      "    accuracy                         0.1758      6728\n",
      "   macro avg     0.0251    0.1429    0.0427      6728\n",
      "weighted avg     0.0309    0.1758    0.0526      6728\n",
      "\n"
     ]
    },
    {
     "name": "stderr",
     "output_type": "stream",
     "text": [
      "C:\\Users\\Chaim\\AppData\\Local\\Programs\\Python\\Python312\\Lib\\site-packages\\sklearn\\metrics\\_classification.py:1565: UndefinedMetricWarning: Precision is ill-defined and being set to 0.0 in labels with no predicted samples. Use `zero_division` parameter to control this behavior.\n",
      "  _warn_prf(average, modifier, f\"{metric.capitalize()} is\", len(result))\n",
      "C:\\Users\\Chaim\\AppData\\Local\\Programs\\Python\\Python312\\Lib\\site-packages\\sklearn\\metrics\\_classification.py:1565: UndefinedMetricWarning: Precision is ill-defined and being set to 0.0 in labels with no predicted samples. Use `zero_division` parameter to control this behavior.\n",
      "  _warn_prf(average, modifier, f\"{metric.capitalize()} is\", len(result))\n",
      "C:\\Users\\Chaim\\AppData\\Local\\Programs\\Python\\Python312\\Lib\\site-packages\\sklearn\\metrics\\_classification.py:1565: UndefinedMetricWarning: Precision is ill-defined and being set to 0.0 in labels with no predicted samples. Use `zero_division` parameter to control this behavior.\n",
      "  _warn_prf(average, modifier, f\"{metric.capitalize()} is\", len(result))\n"
     ]
    }
   ],
   "source": [
    "print_model_evaluation('Baseline Model', baseline_y_test, baseline_y_pred)"
   ]
  },
  {
   "cell_type": "markdown",
   "metadata": {},
   "source": [
    "## Softmax Model"
   ]
  },
  {
   "metadata": {},
   "cell_type": "markdown",
   "source": [
    "The softmax model uses the 200 top words from the bag of words features to predict the emoji label.\n",
    "\n",
    "This model is a simple linear model that uses the softmax function to predict the probabilities of each class."
   ]
  },
  {
   "cell_type": "code",
   "execution_count": 231,
   "metadata": {
    "ExecuteTime": {
     "end_time": "2025-01-16T12:06:45.104323Z",
     "start_time": "2025-01-16T12:06:44.984938Z"
    }
   },
   "outputs": [],
   "source": [
    "softmax_x_train = torch.tensor(train_df[BOW_FEATURES[:200]].values, dtype=torch.float32)\n",
    "softmax_y_train = torch.tensor(train_df[TARGET].values, dtype=torch.float32)\n",
    "\n",
    "softmax_x_val = torch.tensor(val_df[BOW_FEATURES[:200]].values, dtype=torch.float32)\n",
    "softmax_y_val = torch.tensor(val_df[TARGET].values, dtype=torch.float32)\n",
    "\n",
    "softmax_x_test = torch.tensor(test_df[BOW_FEATURES[:200]].values, dtype=torch.float32)\n",
    "softmax_y_test = torch.tensor(test_df[TARGET].values, dtype=torch.float32)"
   ]
  },
  {
   "cell_type": "code",
   "execution_count": 232,
   "metadata": {
    "ExecuteTime": {
     "end_time": "2025-01-16T12:06:45.672330Z",
     "start_time": "2025-01-16T12:06:45.667338Z"
    }
   },
   "outputs": [],
   "source": [
    "class SoftmaxModel(nn.Module):\n",
    "    def __init__(self, input_size, output_size):\n",
    "        super(SoftmaxModel, self).__init__()\n",
    "        self.linear = nn.Linear(input_size, output_size)\n",
    "\n",
    "    def forward(self, x):\n",
    "        return self.linear(x) # Softmax is included in the loss function"
   ]
  },
  {
   "cell_type": "code",
   "execution_count": 233,
   "metadata": {
    "ExecuteTime": {
     "end_time": "2025-01-16T12:06:46.439746Z",
     "start_time": "2025-01-16T12:06:46.415654Z"
    }
   },
   "outputs": [],
   "source": [
    "# Model configuration\n",
    "num_classes = len(emoji_mapping)\n",
    "input_dim = softmax_x_train.shape[1]\n",
    "softmax_model = SoftmaxModel(input_dim, num_classes)\n",
    "\n",
    "# Loss function and optimizer\n",
    "criterion = nn.CrossEntropyLoss()\n",
    "optimizer = optim.Adam(softmax_model.parameters(), lr=0.01)"
   ]
  },
  {
   "cell_type": "code",
   "execution_count": 234,
   "metadata": {
    "ExecuteTime": {
     "end_time": "2025-01-16T12:06:47.116653Z",
     "start_time": "2025-01-16T12:06:47.112521Z"
    }
   },
   "outputs": [],
   "source": [
    "# Early Stopping Configuration\n",
    "patience = 10\n",
    "min_delta = 1e-4\n",
    "best_val_loss = float('inf')\n",
    "early_stop_counter = 0"
   ]
  },
  {
   "cell_type": "code",
   "execution_count": 235,
   "metadata": {
    "ExecuteTime": {
     "end_time": "2025-01-16T12:06:50.268385Z",
     "start_time": "2025-01-16T12:06:47.872467Z"
    }
   },
   "outputs": [
    {
     "name": "stdout",
     "output_type": "stream",
     "text": [
      "Epoch [50/200], Train Loss: 1.7399, Val Loss: 1.7593\n",
      "Epoch [100/200], Train Loss: 1.7134, Val Loss: 1.7399\n",
      "Epoch [150/200], Train Loss: 1.7073, Val Loss: 1.7369\n",
      "Early stopping triggered at epoch 184. Best validation loss: 1.7365\n"
     ]
    },
    {
     "name": "stderr",
     "output_type": "stream",
     "text": [
      "C:\\Users\\Chaim\\AppData\\Local\\Temp\\ipykernel_27832\\2439864243.py:43: FutureWarning: You are using `torch.load` with `weights_only=False` (the current default value), which uses the default pickle module implicitly. It is possible to construct malicious pickle data which will execute arbitrary code during unpickling (See https://github.com/pytorch/pytorch/blob/main/SECURITY.md#untrusted-models for more details). In a future release, the default value for `weights_only` will be flipped to `True`. This limits the functions that could be executed during unpickling. Arbitrary objects will no longer be allowed to be loaded via this mode unless they are explicitly allowlisted by the user via `torch.serialization.add_safe_globals`. We recommend you start setting `weights_only=True` for any use case where you don't have full control of the loaded file. Please open an issue on GitHub for any issues related to this experimental feature.\n",
      "  softmax_model.load_state_dict(torch.load('best_softmax_model.pth'))\n"
     ]
    }
   ],
   "source": [
    "num_epochs = 200\n",
    "train_losses = []\n",
    "val_losses = []\n",
    "\n",
    "for epoch in range(num_epochs):\n",
    "    softmax_model.train()\n",
    "\n",
    "    # Forward pass\n",
    "    outputs = softmax_model(softmax_x_train)\n",
    "    loss = criterion(outputs, softmax_y_train.long())  # Ensure labels are integers\n",
    "\n",
    "    # Backward pass\n",
    "    optimizer.zero_grad()\n",
    "    loss.backward()\n",
    "    optimizer.step()\n",
    "\n",
    "    train_losses.append(loss.item())\n",
    "\n",
    "    # Validation\n",
    "    softmax_model.eval()\n",
    "    with torch.no_grad():\n",
    "        val_outputs = softmax_model(softmax_x_val)\n",
    "        val_loss = criterion(val_outputs, softmax_y_val.long())\n",
    "\n",
    "    val_losses.append(val_loss.item())\n",
    "\n",
    "    # Check for early stopping\n",
    "    if val_loss.item() < best_val_loss - min_delta:\n",
    "        best_val_loss = val_loss.item()\n",
    "        early_stop_counter = 0\n",
    "        torch.save(softmax_model.state_dict(), 'best_softmax_model.pth')\n",
    "    else:\n",
    "        early_stop_counter += 1\n",
    "\n",
    "    if (epoch + 1) % 50 == 0:\n",
    "        print(f'Epoch [{epoch + 1}/{num_epochs}], Train Loss: {loss.item():.4f}, Val Loss: {val_loss.item():.4f}')\n",
    "\n",
    "    if early_stop_counter >= patience:\n",
    "        print(f\"Early stopping triggered at epoch {epoch + 1}. Best validation loss: {best_val_loss:.4f}\")\n",
    "        break\n",
    "\n",
    "# Load the best model for evaluation\n",
    "softmax_model.load_state_dict(torch.load('best_softmax_model.pth'))\n",
    "os.remove('best_softmax_model.pth')"
   ]
  },
  {
   "cell_type": "code",
   "execution_count": 236,
   "metadata": {
    "ExecuteTime": {
     "end_time": "2025-01-16T12:06:50.469693Z",
     "start_time": "2025-01-16T12:06:50.291394Z"
    }
   },
   "outputs": [
    {
     "data": {
      "image/png": "[encoded data removed]",
      "text/plain": [
       "<Figure size 640x480 with 1 Axes>"
      ]
     },
     "metadata": {},
     "output_type": "display_data"
    }
   ],
   "source": [
    "plt.plot(train_losses, label=\"Training Loss\")\n",
    "plt.plot(val_losses, label=\"Validation Loss\")\n",
    "plt.xlabel(\"Epoch\")\n",
    "plt.ylabel(\"Loss\")\n",
    "plt.legend()\n",
    "plt.title(\"Training vs Validation Loss\")\n",
    "plt.show()"
   ]
  },
  {
   "cell_type": "code",
   "execution_count": 237,
   "metadata": {
    "ExecuteTime": {
     "end_time": "2025-01-16T12:06:55.279519Z",
     "start_time": "2025-01-16T12:06:55.061720Z"
    }
   },
   "outputs": [
    {
     "name": "stdout",
     "output_type": "stream",
     "text": [
      "/////// Softmax Model Evaluation ///////\n",
      "Accuracy: 0.3132\n",
      "Precision: 0.3132 (weighted)\n",
      "Recall: 0.3132 (weighted)\n",
      "F1 Score: 0.3040 (weighted)\n"
     ]
    },
    {
     "data": {
      "image/png": "[encoded data removed]",
      "text/plain": [
       "<Figure size 1000x600 with 2 Axes>"
      ]
     },
     "metadata": {},
     "output_type": "display_data"
    },
    {
     "name": "stdout",
     "output_type": "stream",
     "text": [
      "\n",
      "/////// Detailed Classification Report ///////\n",
      "              precision    recall  f1-score   support\n",
      "\n",
      "         0.0     0.2807    0.0716    0.1141       447\n",
      "         1.0     0.3159    0.3242    0.3200       691\n",
      "         2.0     0.3283    0.2191    0.2628      1091\n",
      "         3.0     0.2682    0.4089    0.3239      1054\n",
      "         4.0     0.2797    0.2350    0.2554      1183\n",
      "         5.0     0.3602    0.4288    0.3915      1187\n",
      "         6.0     0.3388    0.3665    0.3521      1075\n",
      "\n",
      "    accuracy                         0.3132      6728\n",
      "   macro avg     0.3103    0.2934    0.2885      6728\n",
      "weighted avg     0.3132    0.3132    0.3040      6728\n",
      "\n"
     ]
    }
   ],
   "source": [
    "softmax_model.eval()\n",
    "with torch.no_grad():\n",
    "    test_outputs = softmax_model(softmax_x_test)\n",
    "    softmax_y_pred = torch.argmax(test_outputs, dim=1)\n",
    "print_model_evaluation('Softmax Model', softmax_y_test, softmax_y_pred)"
   ]
  },
  {
   "cell_type": "code",
   "execution_count": 238,
   "metadata": {
    "ExecuteTime": {
     "end_time": "2025-01-16T10:08:18.706609Z",
     "start_time": "2025-01-16T10:08:18.700528Z"
    }
   },
   "outputs": [
    {
     "name": "stdout",
     "output_type": "stream",
     "text": [
      "Model saved to trained_models\\softmax_model.pth\n"
     ]
    }
   ],
   "source": [
    "save_model(softmax_model, 'softmax_model.pth')"
   ]
  },
  {
   "cell_type": "markdown",
   "metadata": {},
   "source": [
    "## Basic Neural Network"
   ]
  },
  {
   "metadata": {},
   "cell_type": "markdown",
   "source": "The simple neural network model uses the bag of words features to predict the emoji label. The model consists of fully connected layers with ReLU activation functions, batch normalization and dropout layers to prevent overfitting."
  },
  {
   "cell_type": "code",
   "execution_count": 239,
   "metadata": {
    "ExecuteTime": {
     "end_time": "2025-01-16T10:15:26.129911Z",
     "start_time": "2025-01-16T10:15:26.049276Z"
    }
   },
   "outputs": [],
   "source": [
    "train_dataset = TensorDataset(torch.tensor(train_df[BOW_FEATURES].values, dtype=torch.float32),\n",
    "                               torch.tensor(train_df[TARGET].values, dtype=torch.float32))\n",
    "val_dataset = TensorDataset(torch.tensor(val_df[BOW_FEATURES].values, dtype=torch.float32),\n",
    "                             torch.tensor(val_df[TARGET].values, dtype=torch.float32))\n",
    "test_dataset = TensorDataset(torch.tensor(test_df[BOW_FEATURES].values, dtype=torch.float32),\n",
    "                              torch.tensor(test_df[TARGET].values, dtype=torch.float32))"
   ]
  },
  {
   "cell_type": "code",
   "execution_count": 240,
   "metadata": {
    "ExecuteTime": {
     "end_time": "2025-01-16T10:15:26.449385Z",
     "start_time": "2025-01-16T10:15:26.438265Z"
    }
   },
   "outputs": [],
   "source": [
    "BATCH_SIZE = 64\n",
    "train_loader = DataLoader(train_dataset, batch_size=BATCH_SIZE, shuffle=True, pin_memory=True)\n",
    "val_loader = DataLoader(val_dataset, batch_size=BATCH_SIZE, pin_memory=True)\n",
    "test_loader = DataLoader(test_dataset, batch_size=BATCH_SIZE, pin_memory=True)"
   ]
  },
  {
   "cell_type": "code",
   "execution_count": 241,
   "metadata": {
    "ExecuteTime": {
     "end_time": "2025-01-16T10:18:45.509041Z",
     "start_time": "2025-01-16T10:18:45.504269Z"
    }
   },
   "outputs": [],
   "source": [
    "class SimpleNN(nn.Module):\n",
    "    def __init__(self, input_size, output_size):\n",
    "        super(SimpleNN, self).__init__()\n",
    "        self.network = nn.Sequential(\n",
    "            nn.Linear(input_size, 128),\n",
    "            nn.BatchNorm1d(128),\n",
    "            nn.ReLU(),\n",
    "            nn.Dropout(p=0.6),\n",
    "            nn.Linear(128, 64),\n",
    "            nn.ReLU(),\n",
    "            nn.Dropout(p=0.3),\n",
    "            nn.Linear(64, output_size)  # No activation, raw logits for CrossEntropyLoss\n",
    "        )\n",
    "\n",
    "    def forward(self, x):\n",
    "        return self.network(x)"
   ]
  },
  {
   "cell_type": "code",
   "execution_count": 242,
   "metadata": {
    "ExecuteTime": {
     "end_time": "2025-01-16T10:18:46.014568Z",
     "start_time": "2025-01-16T10:18:45.982677Z"
    }
   },
   "outputs": [],
   "source": [
    "# Model configuration\n",
    "num_classes = len(emoji_mapping)\n",
    "input_dim = train_df[BOW_FEATURES].shape[1]\n",
    "simple_nn_model = SimpleNN(input_dim, num_classes)\n",
    "\n",
    "# Loss function and optimizer\n",
    "criterion = nn.CrossEntropyLoss()\n",
    "optimizer = optim.Adam(simple_nn_model.parameters(), lr=0.001, weight_decay=1e-4)"
   ]
  },
  {
   "cell_type": "code",
   "execution_count": 243,
   "metadata": {
    "ExecuteTime": {
     "end_time": "2025-01-16T10:18:46.501441Z",
     "start_time": "2025-01-16T10:18:46.498434Z"
    }
   },
   "outputs": [],
   "source": [
    "# Early Stopping Configuration\n",
    "patience = 10\n",
    "min_delta = 1e-4\n",
    "best_val_loss = float('inf')\n",
    "early_stop_counter = 0"
   ]
  },
  {
   "cell_type": "code",
   "execution_count": 244,
   "metadata": {
    "ExecuteTime": {
     "end_time": "2025-01-16T10:19:37.308525Z",
     "start_time": "2025-01-16T10:18:47.064853Z"
    }
   },
   "outputs": [
    {
     "name": "stdout",
     "output_type": "stream",
     "text": [
      "Epoch [1/50], Train Loss: 1.8351, Val Loss: 1.7377\n",
      "Epoch [2/50], Train Loss: 1.7463, Val Loss: 1.7105\n",
      "Epoch [3/50], Train Loss: 1.7180, Val Loss: 1.7049\n",
      "Epoch [4/50], Train Loss: 1.6990, Val Loss: 1.7032\n",
      "Epoch [5/50], Train Loss: 1.6825, Val Loss: 1.6892\n",
      "Epoch [6/50], Train Loss: 1.6766, Val Loss: 1.6933\n",
      "Epoch [7/50], Train Loss: 1.6637, Val Loss: 1.6963\n",
      "Epoch [8/50], Train Loss: 1.6601, Val Loss: 1.6986\n",
      "Epoch [9/50], Train Loss: 1.6484, Val Loss: 1.6933\n",
      "Epoch [10/50], Train Loss: 1.6425, Val Loss: 1.6952\n",
      "Epoch [11/50], Train Loss: 1.6396, Val Loss: 1.6955\n",
      "Epoch [12/50], Train Loss: 1.6303, Val Loss: 1.6948\n",
      "Epoch [13/50], Train Loss: 1.6223, Val Loss: 1.6989\n",
      "Epoch [14/50], Train Loss: 1.6165, Val Loss: 1.6982\n",
      "Epoch [15/50], Train Loss: 1.6182, Val Loss: 1.6956\n",
      "Early stopping triggered at epoch 15. Best validation loss: 1.6892\n"
     ]
    },
    {
     "name": "stderr",
     "output_type": "stream",
     "text": [
      "C:\\Users\\Chaim\\AppData\\Local\\Temp\\ipykernel_27832\\4287012924.py:51: FutureWarning: You are using `torch.load` with `weights_only=False` (the current default value), which uses the default pickle module implicitly. It is possible to construct malicious pickle data which will execute arbitrary code during unpickling (See https://github.com/pytorch/pytorch/blob/main/SECURITY.md#untrusted-models for more details). In a future release, the default value for `weights_only` will be flipped to `True`. This limits the functions that could be executed during unpickling. Arbitrary objects will no longer be allowed to be loaded via this mode unless they are explicitly allowlisted by the user via `torch.serialization.add_safe_globals`. We recommend you start setting `weights_only=True` for any use case where you don't have full control of the loaded file. Please open an issue on GitHub for any issues related to this experimental feature.\n",
      "  simple_nn_model.load_state_dict(torch.load('best_simple_nn_model.pth'))\n"
     ]
    }
   ],
   "source": [
    "num_epochs = 50\n",
    "train_losses = []\n",
    "val_losses = []\n",
    "\n",
    "for epoch in range(num_epochs):\n",
    "    # Training phase\n",
    "    simple_nn_model.train()\n",
    "    running_train_loss = 0.0  # Accumulate training loss\n",
    "    for inputs, targets in train_loader:\n",
    "        # Forward pass\n",
    "        outputs = simple_nn_model(inputs)\n",
    "        loss = criterion(outputs, targets.long())\n",
    "\n",
    "        # Backward pass and optimization\n",
    "        optimizer.zero_grad()\n",
    "        loss.backward()\n",
    "        optimizer.step()\n",
    "\n",
    "        running_train_loss += loss.item()\n",
    "\n",
    "    avg_train_loss = running_train_loss / len(train_loader)\n",
    "    train_losses.append(avg_train_loss)\n",
    "\n",
    "    # Validation phase\n",
    "    simple_nn_model.eval()\n",
    "    running_val_loss = 0.0  # Accumulate validation loss\n",
    "    with torch.no_grad():\n",
    "        for val_inputs, val_targets in val_loader:\n",
    "            val_outputs = simple_nn_model(val_inputs)\n",
    "            val_loss = criterion(val_outputs, val_targets.long())\n",
    "            running_val_loss += val_loss.item()\n",
    "\n",
    "    avg_val_loss = running_val_loss / len(val_loader)\n",
    "    val_losses.append(avg_val_loss)\n",
    "\n",
    "    # Early stopping\n",
    "    if avg_val_loss < best_val_loss - min_delta:\n",
    "        best_val_loss = avg_val_loss\n",
    "        early_stop_counter = 0\n",
    "        torch.save(simple_nn_model.state_dict(), 'best_simple_nn_model.pth')\n",
    "    else:\n",
    "        early_stop_counter += 1\n",
    "\n",
    "    print(f'Epoch [{epoch + 1}/{num_epochs}], Train Loss: {avg_train_loss:.4f}, Val Loss: {avg_val_loss:.4f}')\n",
    "\n",
    "    if early_stop_counter >= patience:\n",
    "        print(f\"Early stopping triggered at epoch {epoch + 1}. Best validation loss: {best_val_loss:.4f}\")\n",
    "        break\n",
    "\n",
    "# Load the best model for evaluation\n",
    "simple_nn_model.load_state_dict(torch.load('best_simple_nn_model.pth'))\n",
    "os.remove('best_simple_nn_model.pth')"
   ]
  },
  {
   "cell_type": "code",
   "execution_count": 245,
   "metadata": {
    "ExecuteTime": {
     "end_time": "2025-01-16T10:19:37.455060Z",
     "start_time": "2025-01-16T10:19:37.320219Z"
    }
   },
   "outputs": [
    {
     "data": {
      "image/png": "[encoded data removed]",
      "text/plain": [
       "<Figure size 640x480 with 1 Axes>"
      ]
     },
     "metadata": {},
     "output_type": "display_data"
    }
   ],
   "source": [
    "plt.plot(train_losses, label=\"Training Loss\")\n",
    "plt.plot(val_losses, label=\"Validation Loss\")\n",
    "plt.xlabel(\"Epoch\")\n",
    "plt.ylabel(\"Loss\")\n",
    "plt.legend()\n",
    "plt.title(\"Training vs Validation Loss\")\n",
    "plt.show()"
   ]
  },
  {
   "cell_type": "code",
   "execution_count": 246,
   "metadata": {
    "ExecuteTime": {
     "end_time": "2025-01-16T10:26:34.630280Z",
     "start_time": "2025-01-16T10:26:34.351680Z"
    }
   },
   "outputs": [
    {
     "name": "stdout",
     "output_type": "stream",
     "text": [
      "/////// SimpleNN Model Evaluation ///////\n",
      "Accuracy: 0.3387\n",
      "Precision: 0.3376 (weighted)\n",
      "Recall: 0.3387 (weighted)\n",
      "F1 Score: 0.3276 (weighted)\n"
     ]
    },
    {
     "data": {
      "image/png": "[encoded data removed]",
      "text/plain": [
       "<Figure size 1000x600 with 2 Axes>"
      ]
     },
     "metadata": {},
     "output_type": "display_data"
    },
    {
     "name": "stdout",
     "output_type": "stream",
     "text": [
      "\n",
      "/////// Detailed Classification Report ///////\n",
      "              precision    recall  f1-score   support\n",
      "\n",
      "           0     0.2643    0.0828    0.1261       447\n",
      "           1     0.3476    0.4226    0.3815       691\n",
      "           2     0.3545    0.2301    0.2790      1091\n",
      "           3     0.3323    0.4175    0.3701      1054\n",
      "           4     0.2794    0.2713    0.2753      1183\n",
      "           5     0.3494    0.5198    0.4179      1187\n",
      "           6     0.4007    0.2986    0.3422      1075\n",
      "\n",
      "    accuracy                         0.3387      6728\n",
      "   macro avg     0.3326    0.3204    0.3131      6728\n",
      "weighted avg     0.3376    0.3387    0.3276      6728\n",
      "\n"
     ]
    }
   ],
   "source": [
    "simple_nn_model.eval()\n",
    "all_preds = []\n",
    "\n",
    "with torch.no_grad():\n",
    "    for test_inputs, _ in test_loader:  # Use test_loader for batch processing\n",
    "        test_outputs = simple_nn_model(test_inputs)\n",
    "        batch_preds = torch.argmax(test_outputs, dim=1)\n",
    "        all_preds.append(batch_preds)\n",
    "simple_nn_y_pred = torch.cat(all_preds)\n",
    "\n",
    "print_model_evaluation('SimpleNN Model', test_df[TARGET].values, simple_nn_y_pred.cpu().numpy())"
   ]
  },
  {
   "cell_type": "code",
   "execution_count": 247,
   "metadata": {
    "ExecuteTime": {
     "end_time": "2025-01-16T10:26:36.250212Z",
     "start_time": "2025-01-16T10:26:36.242641Z"
    }
   },
   "outputs": [
    {
     "name": "stdout",
     "output_type": "stream",
     "text": [
      "Model saved to trained_models\\simple_nn_model.pth\n"
     ]
    }
   ],
   "source": [
    "save_model(simple_nn_model, 'simple_nn_model.pth')"
   ]
  },
  {
   "cell_type": "markdown",
   "metadata": {},
   "source": [
    "## LSTM with Embeddings"
   ]
  },
  {
   "metadata": {},
   "cell_type": "markdown",
   "source": "In this part, we will use a bidirectional LSTM neural network with pre-trained GloVe embeddings to predict the emoji label."
  },
  {
   "cell_type": "markdown",
   "metadata": {},
   "source": [
    "### Word Embeddings"
   ]
  },
  {
   "metadata": {},
   "cell_type": "markdown",
   "source": "We used the 200-dimensional GloVe embeddings trained on [Twitter data](https://nlp.stanford.edu/data/glove.twitter.27B.zip) (since our dataset is from Twitter).\n"
  },
  {
   "cell_type": "code",
   "execution_count": 248,
   "metadata": {
    "ExecuteTime": {
     "end_time": "2025-01-16T10:26:44.424002Z",
     "start_time": "2025-01-16T10:26:39.794079Z"
    }
   },
   "outputs": [],
   "source": [
    "f = open(\"glove.twitter.27B/glove.twitter.27B.200d.txt\", encoding='utf8')\n",
    "embedding_index = {}\n",
    "for line in f:\n",
    "    values = line.split()\n",
    "    word = values[0]\n",
    "    emb = np.array(values[1:], dtype='float')\n",
    "    embedding_index[word] = emb\n",
    "embedding_dim = embedding_index['hello'].shape[0]"
   ]
  },
  {
   "cell_type": "code",
   "execution_count": 249,
   "metadata": {
    "ExecuteTime": {
     "end_time": "2025-01-16T10:26:44.436967Z",
     "start_time": "2025-01-16T10:26:44.430409Z"
    }
   },
   "outputs": [
    {
     "data": {
      "text/plain": [
       "array([ 4.2766e-01,  2.4532e-01, -8.4922e-01,  3.1648e-01,  1.6538e-01,\n",
       "       -5.8628e-01,  8.5115e-01,  6.3838e-03,  6.5366e-02, -7.1155e-01,\n",
       "       -2.2464e-01, -1.3552e-01, -1.5848e-01, -1.0465e+00, -2.5073e-01,\n",
       "       -3.2956e-01,  5.8865e-01,  7.2249e-02,  1.4451e-01, -1.7732e-01,\n",
       "       -1.0752e-03,  1.0197e-01,  7.3183e-02,  3.2360e-01, -8.7387e-01,\n",
       "       -1.0808e+00,  3.3931e-01, -1.1672e-01,  1.0462e-01,  1.0419e+00,\n",
       "        3.6597e-01,  2.0681e-02,  1.3460e-01, -9.4696e-01, -2.3978e-02,\n",
       "       -8.2389e-01,  9.6535e-02, -1.3870e-01, -5.2832e-01,  3.9776e-01,\n",
       "       -8.4624e-01,  4.7066e-01, -2.5022e-01,  7.7712e-01, -4.3216e-01,\n",
       "        6.6454e-02, -3.5458e-01, -4.9915e-01,  2.3011e-01,  1.0778e-01,\n",
       "       -1.4022e-01,  5.0438e-01, -5.8577e-01, -2.7001e-01,  1.9374e-01,\n",
       "        4.2087e-01,  1.4654e-02,  1.0986e+00, -8.2837e-01, -8.0830e-01,\n",
       "        1.5268e-02, -7.7748e-01,  8.1273e-01,  3.4014e-01,  3.3876e-01,\n",
       "        5.4724e-02,  2.0892e-01,  3.0737e-01,  1.4706e-01,  4.2437e-01,\n",
       "        1.1422e-01, -1.6948e-01,  2.4700e-01, -5.4657e-01, -2.7471e-01,\n",
       "       -4.4670e-01,  1.4814e-02, -1.7289e-01, -6.4120e-02, -8.3405e-01,\n",
       "       -2.6884e-01,  1.0085e+00,  4.3266e-01,  2.4731e-01,  4.9600e-01,\n",
       "       -3.5920e-01,  5.4778e-01,  1.0691e-01,  2.5624e-01, -5.7434e-01,\n",
       "        4.7184e-02,  6.5591e-01, -2.8392e-01, -2.8648e-01,  7.5759e-02,\n",
       "       -6.2395e-01, -5.7091e-01, -3.9349e-01,  8.4975e-01,  4.6772e-01,\n",
       "        5.2197e-01, -1.0662e-01,  3.8853e-01,  4.0345e-02, -6.8215e-02,\n",
       "       -6.8428e-01, -7.9357e-01,  1.9559e-01,  1.8637e-01,  2.4190e-01,\n",
       "        7.7242e-02,  5.1039e-01, -1.0012e+00,  2.6566e-01,  2.2050e-01,\n",
       "        4.7698e-01,  5.2483e-01,  2.9661e-01,  4.0338e-01,  2.1301e-01,\n",
       "       -9.0623e-02,  2.9508e-01,  2.2749e-01, -1.7328e-01,  1.0341e-01,\n",
       "        1.9032e-01, -1.6482e-01,  2.5666e-01, -2.6648e-01,  5.3002e-02,\n",
       "       -3.4725e-01, -1.2566e-01,  3.4471e-01,  5.6942e-01,  2.9017e-01,\n",
       "       -4.3101e-01, -3.7165e-01, -2.8251e-01, -3.9822e-01, -4.5755e-01,\n",
       "        6.9554e-01, -2.3428e-01,  3.9770e-01,  3.5201e-01, -2.4056e-01,\n",
       "       -7.4253e-02, -3.2208e-01, -6.3386e-02,  1.3380e-01,  5.6887e-01,\n",
       "        5.8789e-01, -3.3025e-01, -3.0898e+00, -1.6371e-01, -2.2825e-01,\n",
       "        3.2087e-01,  5.0470e-01, -8.2960e-01,  6.1890e-02, -1.0755e-01,\n",
       "        7.2977e-02,  5.7889e-01,  3.3731e-01, -1.7533e-01, -8.9335e-02,\n",
       "        6.6391e-02, -6.5085e-01, -3.9270e-01, -1.7341e-01,  1.9262e-01,\n",
       "       -2.2590e-01, -6.8098e-01, -5.0729e-02, -3.8546e-01, -2.1492e-01,\n",
       "       -1.1529e-01, -4.8109e-01,  2.7554e-01,  3.0135e-01,  2.9460e-01,\n",
       "        3.1191e-01,  5.0439e-02,  5.5707e-02,  5.3433e-02,  1.8082e-02,\n",
       "        2.5942e-01, -2.1232e-01,  3.7990e-01, -1.2709e-02, -8.7294e-01,\n",
       "       -2.5004e-01,  5.8172e-01,  7.7341e-01, -7.4955e-02,  9.2183e-02,\n",
       "        2.0386e-01, -2.7377e-01, -2.8923e-01, -2.0868e-01, -6.8929e-01])"
      ]
     },
     "execution_count": 249,
     "metadata": {},
     "output_type": "execute_result"
    }
   ],
   "source": [
    "embedding_index['user']"
   ]
  },
  {
   "cell_type": "code",
   "execution_count": 250,
   "metadata": {
    "ExecuteTime": {
     "end_time": "2025-01-16T10:26:44.750125Z",
     "start_time": "2025-01-16T10:26:44.744795Z"
    }
   },
   "outputs": [],
   "source": [
    "def get_embedding_output(X_tokenized, embedding_dim, max_sequence_len=20, padding_value=0.0):\n",
    "    \"\"\"\n",
    "    Convert tokenized text data into embedding vectors with padding.\n",
    "\n",
    "    Args:\n",
    "    X_tokenized (list of lists): Tokenized text, where each sample is a list of tokens.\n",
    "    max_sequence_len (int): Maximum number of tokens per sequence.\n",
    "    padding_value (float): Value to use for padding shorter sequences.\n",
    "\n",
    "    Returns:\n",
    "    np.ndarray: Array of shape (num_samples, max_sequence_len, embedding_dim=50).\n",
    "    \"\"\"\n",
    "    embedding_output = np.full((len(X_tokenized), max_sequence_len, embedding_dim), padding_value, dtype=np.float32)\n",
    "\n",
    "    for ix, tokens in enumerate(X_tokenized):\n",
    "        for ij, token in enumerate(tokens[:max_sequence_len]):\n",
    "            embedding_vector = embedding_index.get(token.lower())\n",
    "            if embedding_vector is not None:\n",
    "                embedding_output[ix][ij] = embedding_vector\n",
    "\n",
    "    return embedding_output"
   ]
  },
  {
   "cell_type": "code",
   "execution_count": 251,
   "metadata": {
    "ExecuteTime": {
     "end_time": "2025-01-16T10:26:46.011501Z",
     "start_time": "2025-01-16T10:26:45.460534Z"
    }
   },
   "outputs": [],
   "source": [
    "max_sequence_len = 20\n",
    "x_embed = get_embedding_output(df['TEXT tokenized'], embedding_dim, max_sequence_len)\n",
    "y_one_hot = keras.utils.to_categorical(df[TARGET])"
   ]
  },
  {
   "cell_type": "code",
   "execution_count": 252,
   "metadata": {
    "ExecuteTime": {
     "end_time": "2025-01-16T10:26:46.026733Z",
     "start_time": "2025-01-16T10:26:46.022065Z"
    }
   },
   "outputs": [
    {
     "name": "stdout",
     "output_type": "stream",
     "text": [
      "x_embed.shape=(44852, 20, 200), y_one_hot.shape=(44852, 7)\n"
     ]
    }
   ],
   "source": [
    "print(f\"{x_embed.shape=}, {y_one_hot.shape=}\")"
   ]
  },
  {
   "cell_type": "code",
   "execution_count": 253,
   "metadata": {
    "ExecuteTime": {
     "end_time": "2025-01-16T10:26:46.486056Z",
     "start_time": "2025-01-16T10:26:46.399423Z"
    }
   },
   "outputs": [],
   "source": [
    "from sklearn.model_selection import train_test_split\n",
    "x_train, x_test, y_train, y_test = train_test_split(x_embed, y_one_hot, test_size=0.2)"
   ]
  },
  {
   "cell_type": "markdown",
   "metadata": {},
   "source": [
    "### Model"
   ]
  },
  {
   "metadata": {},
   "cell_type": "markdown",
   "source": "The LSTM model consists of an embedding layer, a bidirectional LSTM layer, and a dense output layer with a softmax activation function. We also added dropout layers to prevent overfitting."
  },
  {
   "cell_type": "code",
   "execution_count": 254,
   "metadata": {
    "ExecuteTime": {
     "end_time": "2025-01-16T10:36:08.446633Z",
     "start_time": "2025-01-16T10:36:08.053768Z"
    },
    "id": "pDm_epDM55qj",
    "outputId": "b057305c-8304-4c5c-8fe3-4536b287e603",
    "papermill": {
     "duration": 4.307741,
     "end_time": "2020-09-16T16:38:07.642495",
     "exception": false,
     "start_time": "2020-09-16T16:38:03.334754",
     "status": "completed"
    },
    "tags": []
   },
   "outputs": [
    {
     "data": {
      "text/html": [
       "<pre style=\"white-space:pre;overflow-x:auto;line-height:normal;font-family:Menlo,'DejaVu Sans Mono',consolas,'Courier New',monospace\"><span style=\"font-weight: bold\">Model: \"sequential_7\"</span>\n",
       "</pre>\n"
      ],
      "text/plain": [
       "\u001B[1mModel: \"sequential_7\"\u001B[0m\n"
      ]
     },
     "metadata": {},
     "output_type": "display_data"
    },
    {
     "data": {
      "text/html": [
       "<pre style=\"white-space:pre;overflow-x:auto;line-height:normal;font-family:Menlo,'DejaVu Sans Mono',consolas,'Courier New',monospace\">┏━━━━━━━━━━━━━━━━━━━━━━━━━━━━━━━━━━━━━━┳━━━━━━━━━━━━━━━━━━━━━━━━━━━━━┳━━━━━━━━━━━━━━━━━┓\n",
       "┃<span style=\"font-weight: bold\"> Layer (type)                         </span>┃<span style=\"font-weight: bold\"> Output Shape                </span>┃<span style=\"font-weight: bold\">         Param # </span>┃\n",
       "┡━━━━━━━━━━━━━━━━━━━━━━━━━━━━━━━━━━━━━━╇━━━━━━━━━━━━━━━━━━━━━━━━━━━━━╇━━━━━━━━━━━━━━━━━┩\n",
       "│ bidirectional_10 (<span style=\"color: #0087ff; text-decoration-color: #0087ff\">Bidirectional</span>)     │ (<span style=\"color: #00d7ff; text-decoration-color: #00d7ff\">None</span>, <span style=\"color: #00af00; text-decoration-color: #00af00\">1024</span>)                │       <span style=\"color: #00af00; text-decoration-color: #00af00\">2,920,448</span> │\n",
       "├──────────────────────────────────────┼─────────────────────────────┼─────────────────┤\n",
       "│ dropout_10 (<span style=\"color: #0087ff; text-decoration-color: #0087ff\">Dropout</span>)                 │ (<span style=\"color: #00d7ff; text-decoration-color: #00d7ff\">None</span>, <span style=\"color: #00af00; text-decoration-color: #00af00\">1024</span>)                │               <span style=\"color: #00af00; text-decoration-color: #00af00\">0</span> │\n",
       "├──────────────────────────────────────┼─────────────────────────────┼─────────────────┤\n",
       "│ dense_28 (<span style=\"color: #0087ff; text-decoration-color: #0087ff\">Dense</span>)                     │ (<span style=\"color: #00d7ff; text-decoration-color: #00d7ff\">None</span>, <span style=\"color: #00af00; text-decoration-color: #00af00\">128</span>)                 │         <span style=\"color: #00af00; text-decoration-color: #00af00\">131,200</span> │\n",
       "├──────────────────────────────────────┼─────────────────────────────┼─────────────────┤\n",
       "│ dense_29 (<span style=\"color: #0087ff; text-decoration-color: #0087ff\">Dense</span>)                     │ (<span style=\"color: #00d7ff; text-decoration-color: #00d7ff\">None</span>, <span style=\"color: #00af00; text-decoration-color: #00af00\">64</span>)                  │           <span style=\"color: #00af00; text-decoration-color: #00af00\">8,256</span> │\n",
       "├──────────────────────────────────────┼─────────────────────────────┼─────────────────┤\n",
       "│ dense_30 (<span style=\"color: #0087ff; text-decoration-color: #0087ff\">Dense</span>)                     │ (<span style=\"color: #00d7ff; text-decoration-color: #00d7ff\">None</span>, <span style=\"color: #00af00; text-decoration-color: #00af00\">32</span>)                  │           <span style=\"color: #00af00; text-decoration-color: #00af00\">2,080</span> │\n",
       "├──────────────────────────────────────┼─────────────────────────────┼─────────────────┤\n",
       "│ dense_31 (<span style=\"color: #0087ff; text-decoration-color: #0087ff\">Dense</span>)                     │ (<span style=\"color: #00d7ff; text-decoration-color: #00d7ff\">None</span>, <span style=\"color: #00af00; text-decoration-color: #00af00\">7</span>)                   │             <span style=\"color: #00af00; text-decoration-color: #00af00\">231</span> │\n",
       "└──────────────────────────────────────┴─────────────────────────────┴─────────────────┘\n",
       "</pre>\n"
      ],
      "text/plain": [
       "┏━━━━━━━━━━━━━━━━━━━━━━━━━━━━━━━━━━━━━━┳━━━━━━━━━━━━━━━━━━━━━━━━━━━━━┳━━━━━━━━━━━━━━━━━┓\n",
       "┃\u001B[1m \u001B[0m\u001B[1mLayer (type)                        \u001B[0m\u001B[1m \u001B[0m┃\u001B[1m \u001B[0m\u001B[1mOutput Shape               \u001B[0m\u001B[1m \u001B[0m┃\u001B[1m \u001B[0m\u001B[1m        Param #\u001B[0m\u001B[1m \u001B[0m┃\n",
       "┡━━━━━━━━━━━━━━━━━━━━━━━━━━━━━━━━━━━━━━╇━━━━━━━━━━━━━━━━━━━━━━━━━━━━━╇━━━━━━━━━━━━━━━━━┩\n",
       "│ bidirectional_10 (\u001B[38;5;33mBidirectional\u001B[0m)     │ (\u001B[38;5;45mNone\u001B[0m, \u001B[38;5;34m1024\u001B[0m)                │       \u001B[38;5;34m2,920,448\u001B[0m │\n",
       "├──────────────────────────────────────┼─────────────────────────────┼─────────────────┤\n",
       "│ dropout_10 (\u001B[38;5;33mDropout\u001B[0m)                 │ (\u001B[38;5;45mNone\u001B[0m, \u001B[38;5;34m1024\u001B[0m)                │               \u001B[38;5;34m0\u001B[0m │\n",
       "├──────────────────────────────────────┼─────────────────────────────┼─────────────────┤\n",
       "│ dense_28 (\u001B[38;5;33mDense\u001B[0m)                     │ (\u001B[38;5;45mNone\u001B[0m, \u001B[38;5;34m128\u001B[0m)                 │         \u001B[38;5;34m131,200\u001B[0m │\n",
       "├──────────────────────────────────────┼─────────────────────────────┼─────────────────┤\n",
       "│ dense_29 (\u001B[38;5;33mDense\u001B[0m)                     │ (\u001B[38;5;45mNone\u001B[0m, \u001B[38;5;34m64\u001B[0m)                  │           \u001B[38;5;34m8,256\u001B[0m │\n",
       "├──────────────────────────────────────┼─────────────────────────────┼─────────────────┤\n",
       "│ dense_30 (\u001B[38;5;33mDense\u001B[0m)                     │ (\u001B[38;5;45mNone\u001B[0m, \u001B[38;5;34m32\u001B[0m)                  │           \u001B[38;5;34m2,080\u001B[0m │\n",
       "├──────────────────────────────────────┼─────────────────────────────┼─────────────────┤\n",
       "│ dense_31 (\u001B[38;5;33mDense\u001B[0m)                     │ (\u001B[38;5;45mNone\u001B[0m, \u001B[38;5;34m7\u001B[0m)                   │             \u001B[38;5;34m231\u001B[0m │\n",
       "└──────────────────────────────────────┴─────────────────────────────┴─────────────────┘\n"
      ]
     },
     "metadata": {},
     "output_type": "display_data"
    },
    {
     "data": {
      "text/html": [
       "<pre style=\"white-space:pre;overflow-x:auto;line-height:normal;font-family:Menlo,'DejaVu Sans Mono',consolas,'Courier New',monospace\"><span style=\"font-weight: bold\"> Total params: </span><span style=\"color: #00af00; text-decoration-color: #00af00\">3,062,215</span> (11.68 MB)\n",
       "</pre>\n"
      ],
      "text/plain": [
       "\u001B[1m Total params: \u001B[0m\u001B[38;5;34m3,062,215\u001B[0m (11.68 MB)\n"
      ]
     },
     "metadata": {},
     "output_type": "display_data"
    },
    {
     "data": {
      "text/html": [
       "<pre style=\"white-space:pre;overflow-x:auto;line-height:normal;font-family:Menlo,'DejaVu Sans Mono',consolas,'Courier New',monospace\"><span style=\"font-weight: bold\"> Trainable params: </span><span style=\"color: #00af00; text-decoration-color: #00af00\">3,062,215</span> (11.68 MB)\n",
       "</pre>\n"
      ],
      "text/plain": [
       "\u001B[1m Trainable params: \u001B[0m\u001B[38;5;34m3,062,215\u001B[0m (11.68 MB)\n"
      ]
     },
     "metadata": {},
     "output_type": "display_data"
    },
    {
     "data": {
      "text/html": [
       "<pre style=\"white-space:pre;overflow-x:auto;line-height:normal;font-family:Menlo,'DejaVu Sans Mono',consolas,'Courier New',monospace\"><span style=\"font-weight: bold\"> Non-trainable params: </span><span style=\"color: #00af00; text-decoration-color: #00af00\">0</span> (0.00 B)\n",
       "</pre>\n"
      ],
      "text/plain": [
       "\u001B[1m Non-trainable params: \u001B[0m\u001B[38;5;34m0\u001B[0m (0.00 B)\n"
      ]
     },
     "metadata": {},
     "output_type": "display_data"
    }
   ],
   "source": [
    "model = Sequential()\n",
    "model.add(Input(shape=(max_sequence_len, embedding_dim)))\n",
    "model.add(Bidirectional(LSTM(units=512)))\n",
    "model.add(Dropout(0.3))\n",
    "model.add(Dense(units=128, activation='relu'))\n",
    "model.add(Dense(units=64, activation='relu'))\n",
    "model.add(Dense(units=32, activation='relu'))\n",
    "model.add(Dense(units=len(emoji_mapping), activation='softmax'))\n",
    "model.summary()"
   ]
  },
  {
   "cell_type": "code",
   "execution_count": 255,
   "metadata": {
    "ExecuteTime": {
     "end_time": "2025-01-16T10:36:17.048416Z",
     "start_time": "2025-01-16T10:36:17.039645Z"
    },
    "id": "Jx-xCMa_55qk",
    "papermill": {
     "duration": 0.044232,
     "end_time": "2020-09-16T16:38:07.713721",
     "exception": false,
     "start_time": "2020-09-16T16:38:07.669489",
     "status": "completed"
    },
    "tags": []
   },
   "outputs": [],
   "source": [
    "model.compile(optimizer='adam', loss='categorical_crossentropy', metrics=['accuracy'])"
   ]
  },
  {
   "cell_type": "code",
   "execution_count": 256,
   "metadata": {
    "ExecuteTime": {
     "end_time": "2025-01-16T11:05:44.844022Z",
     "start_time": "2025-01-16T10:36:35.828345Z"
    },
    "id": "ZI8PqnXp55qk",
    "outputId": "5b30958e-17db-4343-bc59-add1dc8e59e1",
    "papermill": {
     "duration": 1632.075119,
     "end_time": "2020-09-16T17:05:19.816407",
     "exception": false,
     "start_time": "2020-09-16T16:38:07.741288",
     "status": "completed"
    },
    "tags": []
   },
   "outputs": [
    {
     "name": "stdout",
     "output_type": "stream",
     "text": [
      "Epoch 1/10\n",
      "\u001B[1m449/449\u001B[0m \u001B[32m━━━━━━━━━━━━━━━━━━━━\u001B[0m\u001B[37m\u001B[0m \u001B[1m64s\u001B[0m 137ms/step - accuracy: 0.2817 - loss: 1.7690 - val_accuracy: 0.3977 - val_loss: 1.5575\n",
      "Epoch 2/10\n",
      "\u001B[1m449/449\u001B[0m \u001B[32m━━━━━━━━━━━━━━━━━━━━\u001B[0m\u001B[37m\u001B[0m \u001B[1m79s\u001B[0m 131ms/step - accuracy: 0.4254 - loss: 1.5161 - val_accuracy: 0.4269 - val_loss: 1.4883\n",
      "Epoch 3/10\n",
      "\u001B[1m449/449\u001B[0m \u001B[32m━━━━━━━━━━━━━━━━━━━━\u001B[0m\u001B[37m\u001B[0m \u001B[1m81s\u001B[0m 129ms/step - accuracy: 0.4648 - loss: 1.4140 - val_accuracy: 0.4413 - val_loss: 1.4748\n",
      "Epoch 4/10\n",
      "\u001B[1m449/449\u001B[0m \u001B[32m━━━━━━━━━━━━━━━━━━━━\u001B[0m\u001B[37m\u001B[0m \u001B[1m58s\u001B[0m 130ms/step - accuracy: 0.5019 - loss: 1.3254 - val_accuracy: 0.4349 - val_loss: 1.4754\n",
      "Epoch 5/10\n",
      "\u001B[1m449/449\u001B[0m \u001B[32m━━━━━━━━━━━━━━━━━━━━\u001B[0m\u001B[37m\u001B[0m \u001B[1m59s\u001B[0m 131ms/step - accuracy: 0.5356 - loss: 1.2367 - val_accuracy: 0.4400 - val_loss: 1.4992\n",
      "Epoch 6/10\n",
      "\u001B[1m449/449\u001B[0m \u001B[32m━━━━━━━━━━━━━━━━━━━━\u001B[0m\u001B[37m\u001B[0m \u001B[1m60s\u001B[0m 134ms/step - accuracy: 0.5917 - loss: 1.0828 - val_accuracy: 0.4276 - val_loss: 1.5871\n"
     ]
    }
   ],
   "source": [
    "hist = model.fit(x_train, y_train, validation_split=0.2, shuffle=True, batch_size=64, epochs=10,\n",
    "                 callbacks=[EarlyStopping(patience=3, restore_best_weights=True)])"
   ]
  },
  {
   "cell_type": "code",
   "execution_count": 257,
   "metadata": {
    "ExecuteTime": {
     "end_time": "2025-01-16T11:11:23.649630Z",
     "start_time": "2025-01-16T11:11:23.380062Z"
    }
   },
   "outputs": [
    {
     "data": {
      "image/png": "[encoded data removed]",
      "text/plain": [
       "<Figure size 1200x600 with 2 Axes>"
      ]
     },
     "metadata": {},
     "output_type": "display_data"
    }
   ],
   "source": [
    "history = hist.history\n",
    "loss = history['loss']\n",
    "val_loss = history['val_loss']\n",
    "accuracy = history['accuracy']\n",
    "val_accuracy = history['val_accuracy']\n",
    "\n",
    "# Create epochs array\n",
    "epochs = range(1, len(loss) + 1)\n",
    "\n",
    "# Plot training and validation loss\n",
    "plt.figure(figsize=(12, 6))\n",
    "plt.subplot(1, 2, 1)\n",
    "plt.plot(epochs, loss, 'bo-', label='Training Loss')\n",
    "plt.plot(epochs, val_loss, 'ro-', label='Validation Loss')\n",
    "plt.title('Training and Validation Loss')\n",
    "plt.xlabel('Epochs')\n",
    "plt.ylabel('Loss')\n",
    "plt.legend()\n",
    "\n",
    "# Plot training and validation accuracy\n",
    "plt.subplot(1, 2, 2)\n",
    "plt.plot(epochs, accuracy, 'bo-', label='Training Accuracy')\n",
    "plt.plot(epochs, val_accuracy, 'ro-', label='Validation Accuracy')\n",
    "plt.title('Training and Validation Accuracy')\n",
    "plt.xlabel('Epochs')\n",
    "plt.ylabel('Accuracy')\n",
    "plt.legend()\n",
    "\n",
    "# Display the plots\n",
    "plt.tight_layout()\n",
    "plt.show()\n"
   ]
  },
  {
   "cell_type": "code",
   "execution_count": 258,
   "metadata": {
    "ExecuteTime": {
     "end_time": "2025-01-16T11:06:53.760633Z",
     "start_time": "2025-01-16T11:06:38.483267Z"
    },
    "id": "dgnhV8GL55qk",
    "outputId": "7ff25fa9-c79d-4392-b260-65404ca854ea",
    "papermill": {
     "duration": 21.595854,
     "end_time": "2020-09-16T17:05:49.630759",
     "exception": false,
     "start_time": "2020-09-16T17:05:28.034905",
     "status": "completed"
    },
    "tags": []
   },
   "outputs": [
    {
     "name": "stdout",
     "output_type": "stream",
     "text": [
      "\u001B[1m281/281\u001B[0m \u001B[32m━━━━━━━━━━━━━━━━━━━━\u001B[0m\u001B[37m\u001B[0m \u001B[1m6s\u001B[0m 23ms/step - accuracy: 0.4388 - loss: 1.4786\n"
     ]
    },
    {
     "data": {
      "text/plain": [
       "[1.478278636932373, 0.44331735372543335]"
      ]
     },
     "execution_count": 258,
     "metadata": {},
     "output_type": "execute_result"
    }
   ],
   "source": [
    "model.evaluate(x_test, y_test)"
   ]
  },
  {
   "cell_type": "code",
   "execution_count": 259,
   "metadata": {
    "ExecuteTime": {
     "end_time": "2025-01-16T11:07:12.963370Z",
     "start_time": "2025-01-16T11:06:53.815765Z"
    }
   },
   "outputs": [
    {
     "name": "stdout",
     "output_type": "stream",
     "text": [
      "\u001B[1m281/281\u001B[0m \u001B[32m━━━━━━━━━━━━━━━━━━━━\u001B[0m\u001B[37m\u001B[0m \u001B[1m7s\u001B[0m 23ms/step\n",
      "/////// Bidirectional LSTM Model Evaluation ///////\n",
      "Accuracy: 0.4433\n",
      "Precision: 0.4488 (weighted)\n",
      "Recall: 0.4433 (weighted)\n",
      "F1 Score: 0.4373 (weighted)\n"
     ]
    },
    {
     "data": {
      "image/png": "[encoded data removed]",
      "text/plain": [
       "<Figure size 1000x600 with 2 Axes>"
      ]
     },
     "metadata": {},
     "output_type": "display_data"
    },
    {
     "name": "stdout",
     "output_type": "stream",
     "text": [
      "\n",
      "/////// Detailed Classification Report ///////\n",
      "              precision    recall  f1-score   support\n",
      "\n",
      "           0     0.4574    0.1782    0.2565       662\n",
      "           1     0.7310    0.6211    0.6716       958\n",
      "           2     0.3876    0.3435    0.3643      1406\n",
      "           3     0.5141    0.4949    0.5043      1366\n",
      "           4     0.3338    0.2916    0.3113      1567\n",
      "           5     0.4227    0.5128    0.4634      1562\n",
      "           6     0.4084    0.5841    0.4807      1450\n",
      "\n",
      "    accuracy                         0.4433      8971\n",
      "   macro avg     0.4650    0.4323    0.4360      8971\n",
      "weighted avg     0.4488    0.4433    0.4373      8971\n",
      "\n"
     ]
    }
   ],
   "source": [
    "# Make predictions on the test set\n",
    "y_pred_proba = model.predict(x_test)  # Predict probabilities\n",
    "y_pred = np.argmax(y_pred_proba, axis=1)  # Convert probabilities to class indices\n",
    "\n",
    "# Convert true labels to class indices if they are one-hot encoded\n",
    "y_true = np.argmax(y_test, axis=1)\n",
    "\n",
    "# Print evaluation results\n",
    "print_model_evaluation('Bidirectional LSTM Model', y_true, y_pred)\n"
   ]
  },
  {
   "cell_type": "code",
   "execution_count": 260,
   "metadata": {
    "ExecuteTime": {
     "end_time": "2025-01-16T11:09:50.953838Z",
     "start_time": "2025-01-16T11:09:50.801163Z"
    },
    "id": "RF5qMRJF55qk",
    "papermill": {
     "duration": 7.223478,
     "end_time": "2020-09-16T17:06:04.292198",
     "exception": false,
     "start_time": "2020-09-16T17:05:57.068720",
     "status": "completed"
    },
    "tags": []
   },
   "outputs": [],
   "source": [
    "model.save('trained_models/lstm_model.keras')"
   ]
  },
  {
   "cell_type": "markdown",
   "metadata": {},
   "source": "### Attention and Self-Attention"
  },
  {
   "metadata": {},
   "cell_type": "markdown",
   "source": "We will add attention and self-attention layers to the LSTM model to improve its performance. The attention layer will help the model focus on the most relevant parts of the input sequence, while the self-attention layer will help the model learn the relationships between different parts of the input sequence.\n"
  },
  {
   "cell_type": "code",
   "execution_count": 261,
   "metadata": {
    "ExecuteTime": {
     "end_time": "2025-01-16T12:23:55.727395Z",
     "start_time": "2025-01-16T12:23:55.718056Z"
    }
   },
   "outputs": [],
   "source": [
    "class Attention(Layer):\n",
    "    def __init__(self, **kwargs):\n",
    "        super(Attention, self).__init__(**kwargs)\n",
    "\n",
    "    def build(self, input_shape):\n",
    "        self.W = self.add_weight(name='attention_weights',\n",
    "                                 shape=(input_shape[-1], 1),\n",
    "                                 initializer='glorot_uniform',\n",
    "                                 trainable=True)\n",
    "        self.b = self.add_weight(name='attention_bias',\n",
    "                                 shape=(1,),\n",
    "                                 initializer='zeros',\n",
    "                                 trainable=True)\n",
    "        super(Attention, self).build(input_shape)\n",
    "\n",
    "    def call(self, x):\n",
    "        # Score computation\n",
    "        e = K.tanh(K.dot(x, self.W) + self.b)\n",
    "        # Convert scores to probabilities\n",
    "        alpha = K.softmax(e, axis=1)\n",
    "        # Context vector as weighted sum of input sequences\n",
    "        context = K.sum(alpha * x, axis=1)\n",
    "        return context\n",
    "\n",
    "    def compute_output_shape(self, input_shape):\n",
    "        return (input_shape[0], input_shape[-1])"
   ]
  },
  {
   "cell_type": "code",
   "execution_count": 268,
   "metadata": {},
   "outputs": [
    {
     "data": {
      "text/html": [
       "<pre style=\"white-space:pre;overflow-x:auto;line-height:normal;font-family:Menlo,'DejaVu Sans Mono',consolas,'Courier New',monospace\"><span style=\"font-weight: bold\">Model: \"sequential_10\"</span>\n",
       "</pre>\n"
      ],
      "text/plain": [
       "\u001B[1mModel: \"sequential_10\"\u001B[0m\n"
      ]
     },
     "metadata": {},
     "output_type": "display_data"
    },
    {
     "data": {
      "text/html": [
       "<pre style=\"white-space:pre;overflow-x:auto;line-height:normal;font-family:Menlo,'DejaVu Sans Mono',consolas,'Courier New',monospace\">┏━━━━━━━━━━━━━━━━━━━━━━━━━━━━━━━━━━━━━━┳━━━━━━━━━━━━━━━━━━━━━━━━━━━━━┳━━━━━━━━━━━━━━━━━┓\n",
       "┃<span style=\"font-weight: bold\"> Layer (type)                         </span>┃<span style=\"font-weight: bold\"> Output Shape                </span>┃<span style=\"font-weight: bold\">         Param # </span>┃\n",
       "┡━━━━━━━━━━━━━━━━━━━━━━━━━━━━━━━━━━━━━━╇━━━━━━━━━━━━━━━━━━━━━━━━━━━━━╇━━━━━━━━━━━━━━━━━┩\n",
       "│ bidirectional_15 (<span style=\"color: #0087ff; text-decoration-color: #0087ff\">Bidirectional</span>)     │ (<span style=\"color: #00d7ff; text-decoration-color: #00d7ff\">None</span>, <span style=\"color: #00af00; text-decoration-color: #00af00\">20</span>, <span style=\"color: #00af00; text-decoration-color: #00af00\">1024</span>)            │       <span style=\"color: #00af00; text-decoration-color: #00af00\">2,920,448</span> │\n",
       "├──────────────────────────────────────┼─────────────────────────────┼─────────────────┤\n",
       "│ seq_self_attention_4                 │ (<span style=\"color: #00d7ff; text-decoration-color: #00d7ff\">None</span>, <span style=\"color: #00af00; text-decoration-color: #00af00\">20</span>, <span style=\"color: #00af00; text-decoration-color: #00af00\">1024</span>)            │          <span style=\"color: #00af00; text-decoration-color: #00af00\">65,601</span> │\n",
       "│ (<span style=\"color: #0087ff; text-decoration-color: #0087ff\">SeqSelfAttention</span>)                   │                             │                 │\n",
       "├──────────────────────────────────────┼─────────────────────────────┼─────────────────┤\n",
       "│ bidirectional_16 (<span style=\"color: #0087ff; text-decoration-color: #0087ff\">Bidirectional</span>)     │ (<span style=\"color: #00d7ff; text-decoration-color: #00d7ff\">None</span>, <span style=\"color: #00af00; text-decoration-color: #00af00\">20</span>, <span style=\"color: #00af00; text-decoration-color: #00af00\">512</span>)             │       <span style=\"color: #00af00; text-decoration-color: #00af00\">2,623,488</span> │\n",
       "├──────────────────────────────────────┼─────────────────────────────┼─────────────────┤\n",
       "│ attention_3 (<span style=\"color: #0087ff; text-decoration-color: #0087ff\">Attention</span>)              │ (<span style=\"color: #00d7ff; text-decoration-color: #00d7ff\">None</span>, <span style=\"color: #00af00; text-decoration-color: #00af00\">512</span>)                 │             <span style=\"color: #00af00; text-decoration-color: #00af00\">513</span> │\n",
       "├──────────────────────────────────────┼─────────────────────────────┼─────────────────┤\n",
       "│ dense_40 (<span style=\"color: #0087ff; text-decoration-color: #0087ff\">Dense</span>)                     │ (<span style=\"color: #00d7ff; text-decoration-color: #00d7ff\">None</span>, <span style=\"color: #00af00; text-decoration-color: #00af00\">128</span>)                 │          <span style=\"color: #00af00; text-decoration-color: #00af00\">65,664</span> │\n",
       "├──────────────────────────────────────┼─────────────────────────────┼─────────────────┤\n",
       "│ dropout_15 (<span style=\"color: #0087ff; text-decoration-color: #0087ff\">Dropout</span>)                 │ (<span style=\"color: #00d7ff; text-decoration-color: #00d7ff\">None</span>, <span style=\"color: #00af00; text-decoration-color: #00af00\">128</span>)                 │               <span style=\"color: #00af00; text-decoration-color: #00af00\">0</span> │\n",
       "├──────────────────────────────────────┼─────────────────────────────┼─────────────────┤\n",
       "│ dense_41 (<span style=\"color: #0087ff; text-decoration-color: #0087ff\">Dense</span>)                     │ (<span style=\"color: #00d7ff; text-decoration-color: #00d7ff\">None</span>, <span style=\"color: #00af00; text-decoration-color: #00af00\">64</span>)                  │           <span style=\"color: #00af00; text-decoration-color: #00af00\">8,256</span> │\n",
       "├──────────────────────────────────────┼─────────────────────────────┼─────────────────┤\n",
       "│ dropout_16 (<span style=\"color: #0087ff; text-decoration-color: #0087ff\">Dropout</span>)                 │ (<span style=\"color: #00d7ff; text-decoration-color: #00d7ff\">None</span>, <span style=\"color: #00af00; text-decoration-color: #00af00\">64</span>)                  │               <span style=\"color: #00af00; text-decoration-color: #00af00\">0</span> │\n",
       "├──────────────────────────────────────┼─────────────────────────────┼─────────────────┤\n",
       "│ dense_42 (<span style=\"color: #0087ff; text-decoration-color: #0087ff\">Dense</span>)                     │ (<span style=\"color: #00d7ff; text-decoration-color: #00d7ff\">None</span>, <span style=\"color: #00af00; text-decoration-color: #00af00\">32</span>)                  │           <span style=\"color: #00af00; text-decoration-color: #00af00\">2,080</span> │\n",
       "├──────────────────────────────────────┼─────────────────────────────┼─────────────────┤\n",
       "│ dense_43 (<span style=\"color: #0087ff; text-decoration-color: #0087ff\">Dense</span>)                     │ (<span style=\"color: #00d7ff; text-decoration-color: #00d7ff\">None</span>, <span style=\"color: #00af00; text-decoration-color: #00af00\">7</span>)                   │             <span style=\"color: #00af00; text-decoration-color: #00af00\">231</span> │\n",
       "└──────────────────────────────────────┴─────────────────────────────┴─────────────────┘\n",
       "</pre>\n"
      ],
      "text/plain": [
       "┏━━━━━━━━━━━━━━━━━━━━━━━━━━━━━━━━━━━━━━┳━━━━━━━━━━━━━━━━━━━━━━━━━━━━━┳━━━━━━━━━━━━━━━━━┓\n",
       "┃\u001B[1m \u001B[0m\u001B[1mLayer (type)                        \u001B[0m\u001B[1m \u001B[0m┃\u001B[1m \u001B[0m\u001B[1mOutput Shape               \u001B[0m\u001B[1m \u001B[0m┃\u001B[1m \u001B[0m\u001B[1m        Param #\u001B[0m\u001B[1m \u001B[0m┃\n",
       "┡━━━━━━━━━━━━━━━━━━━━━━━━━━━━━━━━━━━━━━╇━━━━━━━━━━━━━━━━━━━━━━━━━━━━━╇━━━━━━━━━━━━━━━━━┩\n",
       "│ bidirectional_15 (\u001B[38;5;33mBidirectional\u001B[0m)     │ (\u001B[38;5;45mNone\u001B[0m, \u001B[38;5;34m20\u001B[0m, \u001B[38;5;34m1024\u001B[0m)            │       \u001B[38;5;34m2,920,448\u001B[0m │\n",
       "├──────────────────────────────────────┼─────────────────────────────┼─────────────────┤\n",
       "│ seq_self_attention_4                 │ (\u001B[38;5;45mNone\u001B[0m, \u001B[38;5;34m20\u001B[0m, \u001B[38;5;34m1024\u001B[0m)            │          \u001B[38;5;34m65,601\u001B[0m │\n",
       "│ (\u001B[38;5;33mSeqSelfAttention\u001B[0m)                   │                             │                 │\n",
       "├──────────────────────────────────────┼─────────────────────────────┼─────────────────┤\n",
       "│ bidirectional_16 (\u001B[38;5;33mBidirectional\u001B[0m)     │ (\u001B[38;5;45mNone\u001B[0m, \u001B[38;5;34m20\u001B[0m, \u001B[38;5;34m512\u001B[0m)             │       \u001B[38;5;34m2,623,488\u001B[0m │\n",
       "├──────────────────────────────────────┼─────────────────────────────┼─────────────────┤\n",
       "│ attention_3 (\u001B[38;5;33mAttention\u001B[0m)              │ (\u001B[38;5;45mNone\u001B[0m, \u001B[38;5;34m512\u001B[0m)                 │             \u001B[38;5;34m513\u001B[0m │\n",
       "├──────────────────────────────────────┼─────────────────────────────┼─────────────────┤\n",
       "│ dense_40 (\u001B[38;5;33mDense\u001B[0m)                     │ (\u001B[38;5;45mNone\u001B[0m, \u001B[38;5;34m128\u001B[0m)                 │          \u001B[38;5;34m65,664\u001B[0m │\n",
       "├──────────────────────────────────────┼─────────────────────────────┼─────────────────┤\n",
       "│ dropout_15 (\u001B[38;5;33mDropout\u001B[0m)                 │ (\u001B[38;5;45mNone\u001B[0m, \u001B[38;5;34m128\u001B[0m)                 │               \u001B[38;5;34m0\u001B[0m │\n",
       "├──────────────────────────────────────┼─────────────────────────────┼─────────────────┤\n",
       "│ dense_41 (\u001B[38;5;33mDense\u001B[0m)                     │ (\u001B[38;5;45mNone\u001B[0m, \u001B[38;5;34m64\u001B[0m)                  │           \u001B[38;5;34m8,256\u001B[0m │\n",
       "├──────────────────────────────────────┼─────────────────────────────┼─────────────────┤\n",
       "│ dropout_16 (\u001B[38;5;33mDropout\u001B[0m)                 │ (\u001B[38;5;45mNone\u001B[0m, \u001B[38;5;34m64\u001B[0m)                  │               \u001B[38;5;34m0\u001B[0m │\n",
       "├──────────────────────────────────────┼─────────────────────────────┼─────────────────┤\n",
       "│ dense_42 (\u001B[38;5;33mDense\u001B[0m)                     │ (\u001B[38;5;45mNone\u001B[0m, \u001B[38;5;34m32\u001B[0m)                  │           \u001B[38;5;34m2,080\u001B[0m │\n",
       "├──────────────────────────────────────┼─────────────────────────────┼─────────────────┤\n",
       "│ dense_43 (\u001B[38;5;33mDense\u001B[0m)                     │ (\u001B[38;5;45mNone\u001B[0m, \u001B[38;5;34m7\u001B[0m)                   │             \u001B[38;5;34m231\u001B[0m │\n",
       "└──────────────────────────────────────┴─────────────────────────────┴─────────────────┘\n"
      ]
     },
     "metadata": {},
     "output_type": "display_data"
    },
    {
     "data": {
      "text/html": [
       "<pre style=\"white-space:pre;overflow-x:auto;line-height:normal;font-family:Menlo,'DejaVu Sans Mono',consolas,'Courier New',monospace\"><span style=\"font-weight: bold\"> Total params: </span><span style=\"color: #00af00; text-decoration-color: #00af00\">5,686,281</span> (21.69 MB)\n",
       "</pre>\n"
      ],
      "text/plain": [
       "\u001B[1m Total params: \u001B[0m\u001B[38;5;34m5,686,281\u001B[0m (21.69 MB)\n"
      ]
     },
     "metadata": {},
     "output_type": "display_data"
    },
    {
     "data": {
      "text/html": [
       "<pre style=\"white-space:pre;overflow-x:auto;line-height:normal;font-family:Menlo,'DejaVu Sans Mono',consolas,'Courier New',monospace\"><span style=\"font-weight: bold\"> Trainable params: </span><span style=\"color: #00af00; text-decoration-color: #00af00\">5,686,281</span> (21.69 MB)\n",
       "</pre>\n"
      ],
      "text/plain": [
       "\u001B[1m Trainable params: \u001B[0m\u001B[38;5;34m5,686,281\u001B[0m (21.69 MB)\n"
      ]
     },
     "metadata": {},
     "output_type": "display_data"
    },
    {
     "data": {
      "text/html": [
       "<pre style=\"white-space:pre;overflow-x:auto;line-height:normal;font-family:Menlo,'DejaVu Sans Mono',consolas,'Courier New',monospace\"><span style=\"font-weight: bold\"> Non-trainable params: </span><span style=\"color: #00af00; text-decoration-color: #00af00\">0</span> (0.00 B)\n",
       "</pre>\n"
      ],
      "text/plain": [
       "\u001B[1m Non-trainable params: \u001B[0m\u001B[38;5;34m0\u001B[0m (0.00 B)\n"
      ]
     },
     "metadata": {},
     "output_type": "display_data"
    }
   ],
   "source": [
    "model = Sequential()\n",
    "model.add(Input(shape=(max_sequence_len, embedding_dim)))\n",
    "model.add(Bidirectional(LSTM(units=512, recurrent_dropout=0.3, return_sequences=True)))\n",
    "model.add(SeqSelfAttention())\n",
    "model.add(Bidirectional(LSTM(units=256, recurrent_dropout=0.3, return_sequences=True)))\n",
    "model.add(Attention())\n",
    "model.add(Dense(units=128, activation='relu'))\n",
    "model.add(Dropout(0.3))\n",
    "model.add(Dense(units=64, activation='relu'))\n",
    "model.add(Dropout(0.3))\n",
    "model.add(Dense(units=32, activation='relu'))\n",
    "model.add(Dense(units=len(emoji_mapping), activation='softmax'))\n",
    "model.summary()"
   ]
  },
  {
   "cell_type": "code",
   "execution_count": 269,
   "metadata": {},
   "outputs": [],
   "source": [
    "model.compile(optimizer=Adam(), loss='categorical_crossentropy', metrics=['accuracy'])"
   ]
  },
  {
   "cell_type": "code",
   "execution_count": 270,
   "metadata": {
    "ExecuteTime": {
     "end_time": "2025-01-16T12:37:51.107639Z",
     "start_time": "2025-01-16T12:23:57.714943Z"
    }
   },
   "outputs": [
    {
     "name": "stdout",
     "output_type": "stream",
     "text": [
      "Epoch 1/15\n",
      "\u001B[1m113/113\u001B[0m \u001B[32m━━━━━━━━━━━━━━━━━━━━\u001B[0m\u001B[37m\u001B[0m \u001B[1m105s\u001B[0m 845ms/step - accuracy: 0.2286 - loss: 1.8542 - val_accuracy: 0.3669 - val_loss: 1.6155\n",
      "Epoch 2/15\n",
      "\u001B[1m113/113\u001B[0m \u001B[32m━━━━━━━━━━━━━━━━━━━━\u001B[0m\u001B[37m\u001B[0m \u001B[1m94s\u001B[0m 830ms/step - accuracy: 0.3753 - loss: 1.6112 - val_accuracy: 0.4081 - val_loss: 1.5429\n",
      "Epoch 3/15\n",
      "\u001B[1m113/113\u001B[0m \u001B[32m━━━━━━━━━━━━━━━━━━━━\u001B[0m\u001B[37m\u001B[0m \u001B[1m143s\u001B[0m 834ms/step - accuracy: 0.4176 - loss: 1.5335 - val_accuracy: 0.4243 - val_loss: 1.5097\n",
      "Epoch 4/15\n",
      "\u001B[1m113/113\u001B[0m \u001B[32m━━━━━━━━━━━━━━━━━━━━\u001B[0m\u001B[37m\u001B[0m \u001B[1m94s\u001B[0m 836ms/step - accuracy: 0.4339 - loss: 1.4835 - val_accuracy: 0.4324 - val_loss: 1.4885\n",
      "Epoch 5/15\n",
      "\u001B[1m113/113\u001B[0m \u001B[32m━━━━━━━━━━━━━━━━━━━━\u001B[0m\u001B[37m\u001B[0m \u001B[1m142s\u001B[0m 832ms/step - accuracy: 0.4592 - loss: 1.4439 - val_accuracy: 0.4376 - val_loss: 1.4814\n",
      "Epoch 6/15\n",
      "\u001B[1m113/113\u001B[0m \u001B[32m━━━━━━━━━━━━━━━━━━━━\u001B[0m\u001B[37m\u001B[0m \u001B[1m95s\u001B[0m 838ms/step - accuracy: 0.4743 - loss: 1.3935 - val_accuracy: 0.4375 - val_loss: 1.4894\n",
      "Epoch 7/15\n",
      "\u001B[1m113/113\u001B[0m \u001B[32m━━━━━━━━━━━━━━━━━━━━\u001B[0m\u001B[37m\u001B[0m \u001B[1m95s\u001B[0m 837ms/step - accuracy: 0.4882 - loss: 1.3606 - val_accuracy: 0.4417 - val_loss: 1.4897\n",
      "Epoch 8/15\n",
      "\u001B[1m113/113\u001B[0m \u001B[32m━━━━━━━━━━━━━━━━━━━━\u001B[0m\u001B[37m\u001B[0m \u001B[1m95s\u001B[0m 838ms/step - accuracy: 0.5115 - loss: 1.3013 - val_accuracy: 0.4343 - val_loss: 1.5136\n"
     ]
    }
   ],
   "source": [
    "hist = model.fit(x_train, y_train, validation_split=0.2, shuffle=True, batch_size=256, epochs=15,\n",
    "                 callbacks=[EarlyStopping(patience=3, restore_best_weights=True)])"
   ]
  },
  {
   "cell_type": "code",
   "execution_count": 272,
   "metadata": {
    "ExecuteTime": {
     "end_time": "2025-01-16T12:39:11.761188Z",
     "start_time": "2025-01-16T12:39:11.445056Z"
    }
   },
   "outputs": [
    {
     "data": {
      "image/png": "[encoded data removed]",
      "text/plain": [
       "<Figure size 1200x600 with 2 Axes>"
      ]
     },
     "metadata": {},
     "output_type": "display_data"
    }
   ],
   "source": [
    "history = hist.history\n",
    "loss = history['loss']\n",
    "val_loss = history['val_loss']\n",
    "accuracy = history['accuracy']\n",
    "val_accuracy = history['val_accuracy']\n",
    "\n",
    "# Create epochs array\n",
    "epochs = range(1, len(loss) + 1)\n",
    "\n",
    "# Plot training and validation loss\n",
    "plt.figure(figsize=(12, 6))\n",
    "plt.subplot(1, 2, 1)\n",
    "plt.plot(epochs, loss, 'bo-', label='Training Loss')\n",
    "plt.plot(epochs, val_loss, 'ro-', label='Validation Loss')\n",
    "plt.title('Training and Validation Loss')\n",
    "plt.xlabel('Epochs')\n",
    "plt.ylabel('Loss')\n",
    "plt.legend()\n",
    "\n",
    "# Plot training and validation accuracy\n",
    "plt.subplot(1, 2, 2)\n",
    "plt.plot(epochs, accuracy, 'bo-', label='Training Accuracy')\n",
    "plt.plot(epochs, val_accuracy, 'ro-', label='Validation Accuracy')\n",
    "plt.title('Training and Validation Accuracy')\n",
    "plt.xlabel('Epochs')\n",
    "plt.ylabel('Accuracy')\n",
    "plt.legend()\n",
    "\n",
    "# Display the plots\n",
    "plt.tight_layout()\n",
    "plt.show()"
   ]
  },
  {
   "cell_type": "code",
   "execution_count": 273,
   "metadata": {
    "ExecuteTime": {
     "end_time": "2025-01-16T12:39:19.161699Z",
     "start_time": "2025-01-16T12:39:11.772045Z"
    }
   },
   "outputs": [
    {
     "name": "stdout",
     "output_type": "stream",
     "text": [
      "\u001B[1m281/281\u001B[0m \u001B[32m━━━━━━━━━━━━━━━━━━━━\u001B[0m\u001B[37m\u001B[0m \u001B[1m18s\u001B[0m 63ms/step - accuracy: 0.4363 - loss: 1.4785\n"
     ]
    },
    {
     "data": {
      "text/plain": [
       "[1.4813858270645142, 0.43807825446128845]"
      ]
     },
     "execution_count": 273,
     "metadata": {},
     "output_type": "execute_result"
    }
   ],
   "source": [
    "model.evaluate(x_test, y_test)"
   ]
  },
  {
   "cell_type": "code",
   "execution_count": 274,
   "metadata": {
    "ExecuteTime": {
     "end_time": "2025-01-16T12:39:28.428760Z",
     "start_time": "2025-01-16T12:39:19.534257Z"
    }
   },
   "outputs": [
    {
     "name": "stdout",
     "output_type": "stream",
     "text": [
      "\u001B[1m281/281\u001B[0m \u001B[32m━━━━━━━━━━━━━━━━━━━━\u001B[0m\u001B[37m\u001B[0m \u001B[1m20s\u001B[0m 67ms/step\n",
      "/////// Bidirectional LSTM Attention Model Evaluation ///////\n",
      "Accuracy: 0.4381\n",
      "Precision: 0.4523 (weighted)\n",
      "Recall: 0.4381 (weighted)\n",
      "F1 Score: 0.4290 (weighted)\n"
     ]
    },
    {
     "data": {
      "image/png": "[encoded data removed]",
      "text/plain": [
       "<Figure size 1000x600 with 2 Axes>"
      ]
     },
     "metadata": {},
     "output_type": "display_data"
    },
    {
     "name": "stdout",
     "output_type": "stream",
     "text": [
      "\n",
      "/////// Detailed Classification Report ///////\n",
      "              precision    recall  f1-score   support\n",
      "\n",
      "           0     0.5400    0.0816    0.1417       662\n",
      "           1     0.6674    0.6618    0.6646       958\n",
      "           2     0.3238    0.4488    0.3762      1406\n",
      "           3     0.4813    0.5549    0.5155      1366\n",
      "           4     0.3095    0.2872    0.2979      1567\n",
      "           5     0.4404    0.5109    0.4730      1562\n",
      "           6     0.5349    0.4172    0.4688      1450\n",
      "\n",
      "    accuracy                         0.4381      8971\n",
      "   macro avg     0.4710    0.4232    0.4197      8971\n",
      "weighted avg     0.4523    0.4381    0.4290      8971\n",
      "\n"
     ]
    }
   ],
   "source": [
    "# Make predictions on the test set\n",
    "y_pred_proba = model.predict(x_test)  # Predict probabilities\n",
    "y_pred = np.argmax(y_pred_proba, axis=1)  # Convert probabilities to class indices\n",
    "\n",
    "# Convert true labels to class indices if they are one-hot encoded\n",
    "y_true = np.argmax(y_test, axis=1)\n",
    "\n",
    "# Print evaluation results\n",
    "print_model_evaluation('Bidirectional LSTM Attention Model', y_true, y_pred)"
   ]
  },
  {
   "cell_type": "code",
   "execution_count": 275,
   "metadata": {
    "ExecuteTime": {
     "end_time": "2025-01-16T12:39:29.171178Z",
     "start_time": "2025-01-16T12:39:29.099756Z"
    }
   },
   "outputs": [],
   "source": [
    "model.save('trained_models/lstm_model_attention.keras')"
   ]
  },
  {
   "metadata": {},
   "cell_type": "markdown",
   "source": "## Conclusion"
  },
  {
   "metadata": {},
   "cell_type": "markdown",
   "source": [
    "In this notebook, we built and evaluated several models to predict emojis from text data. We started by preprocessing the dataset, encoding the labels, and adding bag of words features. We then trained and evaluated a baseline model, a softmax model, a simple neural network, and a bidirectional LSTM model with pre-trained GloVe embeddings.\n",
    "\n",
    "| Metric               | Baseline | Softmax | FCNN  | LSTM RNN | LSTM RNN + Attention |\n",
    "|----------------------|----------|---------|-------|----------|----------------------|\n",
    "| Accuracy             | 0.1758   | 0.3133  | 0.3352 | 0.4390   | 0.4387               |\n",
    "| Precision (weighted) | 0.0309   | 0.3139  | 0.3313 | 0.4369   | 0.4459               |\n",
    "| Recall (weighted)    | 0.1758   | 0.3133  | 0.3352 | 0.4390   | 0.4387               |\n",
    "| F1 Score (weighted)  | 0.0526   | 0.3043  | 0.3254 | 0.4288   | 0.4309               |\n",
    "\n",
    "\n",
    "The most considerable improvement occurred when we used the LSTM model with pre-trained GloVe embeddings, which achieved an F1-score of 0.4288. Adding attention to the LSTM model did not improve the performance significantly. Our assumption for that is the short length of the sentences in the dataset, which may not require the model to focus on specific parts of the input sequence and the bidirectional LSTM layer already captures the context from both directions.\n",
    "\n",
    "Considering the hardships of the dataset, including the different usages of different people for emojis and the variety of emojis that fit a single sentence, the models' performance is more than satisfactory, and we will see the results in the examples below."
   ]
  },
  {
   "cell_type": "markdown",
   "metadata": {},
   "source": [
    "## Examples"
   ]
  },
  {
   "cell_type": "code",
   "execution_count": 276,
   "metadata": {
    "ExecuteTime": {
     "end_time": "2025-01-16T12:45:52.554880Z",
     "start_time": "2025-01-16T12:45:51.800087Z"
    }
   },
   "outputs": [],
   "source": [
    "from tensorflow.keras.models import load_model\n",
    "\n",
    "model = load_model('trained_models/lstm_model_attention.keras', custom_objects={'Attention': Attention})"
   ]
  },
  {
   "cell_type": "code",
   "execution_count": 277,
   "metadata": {
    "ExecuteTime": {
     "end_time": "2025-01-16T12:46:00.200098Z",
     "start_time": "2025-01-16T12:46:00.196006Z"
    }
   },
   "outputs": [
    {
     "name": "stdout",
     "output_type": "stream",
     "text": [
      "{1: '📸', 2: '😍', 3: '😂', 0: '✨', 4: '😁', 5: '💕', 6: '🔥'}\n"
     ]
    }
   ],
   "source": [
    "print(emoji_mapping)"
   ]
  },
  {
   "cell_type": "code",
   "execution_count": 278,
   "metadata": {
    "ExecuteTime": {
     "end_time": "2025-01-16T12:49:05.304725Z",
     "start_time": "2025-01-16T12:49:05.299133Z"
    }
   },
   "outputs": [],
   "source": [
    "examples = [\n",
    "    'I had an amazing weekend with my friends',\n",
    "    'My vacation is coming up soon',\n",
    "    'Yoav had a great time at the party',\n",
    "    'I cannot believe this had just happened',\n",
    "    'Magic is in the air',\n",
    "    'I had a lovely time around the city, such great scenes',\n",
    "    'I am so excited for the concert tonight',\n",
    "    'The birthday party was a blast',\n",
    "]"
   ]
  },
  {
   "cell_type": "code",
   "execution_count": 279,
   "metadata": {
    "ExecuteTime": {
     "end_time": "2025-01-16T12:49:06.440620Z",
     "start_time": "2025-01-16T12:49:06.432813Z"
    }
   },
   "outputs": [],
   "source": [
    "def tokenize_examples(examples):\n",
    "    processed = [process_text(example) for example in examples]\n",
    "    tokenized = [word_tokenize(example) for example in processed]\n",
    "    return tokenized\n",
    "\n",
    "tokenized_examples = tokenize_examples(examples)"
   ]
  },
  {
   "metadata": {},
   "cell_type": "code",
   "outputs": [],
   "execution_count": null,
   "source": [
    "x_examples = get_embedding_output(tokenized_examples, embedding_dim, max_sequence_len)\n",
    "\n",
    "# Predict\n",
    "predictions = model.predict(x_examples)\n",
    "predicted_classes = predictions.argmax(axis=1)\n",
    "\n",
    "# Map predicted classes to emojis (assuming emoji_mapping is a dictionary)\n",
    "predicted_emojis = [emoji_mapping[class_idx] for class_idx in predicted_classes]\n",
    "\n",
    "# Display examples and predictions\n",
    "for example, emoji in zip(examples, predicted_emojis):\n",
    "    print(f\"Example: {example}\")\n",
    "    print(f\"Predicted Emoji: {emoji}\")\n",
    "    print(\"-\" * 40)"
   ]
  },
  {
   "metadata": {},
   "cell_type": "markdown",
   "source": [
    "The model predicted fitting emojis for the statements.\n",
    "\n",
    "The most noteable predictions are:\n",
    "- \"I cannot believe this had just happened\" -> 😂\n",
    "\n",
    "This example shows the model's abilty to understand suprise and humor in a sentence without relying on keywords.\n",
    "\n",
    "- \"I had a lovely time around the city, such great scenes\" -> 📸\n",
    "\n",
    "Despite having the word 'lovely', which indicates hearts emoji, the model predicted the camera emoji, which is more fitting for the sentence."
   ]
  }
 ],
 "metadata": {
  "colab": {
   "provenance": []
  },
  "kernelspec": {
   "display_name": "Python 3 (ipykernel)",
   "language": "python",
   "name": "python3"
  },
  "language_info": {
   "codemirror_mode": {
    "name": "ipython",
    "version": 3
   },
   "file_extension": ".py",
   "mimetype": "text/x-python",
   "name": "python",
   "nbconvert_exporter": "python",
   "pygments_lexer": "ipython3",
   "version": "3.12.5"
  },
  "papermill": {
   "duration": 2121.460118,
   "end_time": "2020-09-16T17:06:13.798131",
   "environment_variables": {},
   "exception": null,
   "input_path": "__notebook__.ipynb",
   "output_path": "__notebook__.ipynb",
   "parameters": {},
   "start_time": "2020-09-16T16:30:52.338013",
   "version": "2.1.0"
  }
 },
 "nbformat": 4,
 "nbformat_minor": 4
}
